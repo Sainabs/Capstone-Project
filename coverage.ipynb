{
 "cells": [
  {
   "cell_type": "code",
   "execution_count": 1,
   "metadata": {},
   "outputs": [],
   "source": [
    "import pandas as pd\n",
    "import numpy as np\n",
    "import matplotlib.pyplot as plt\n",
    "import seaborn as sns\n",
    "import statsmodels.api as sm\n",
    "# from sklearn.linear_model import LinearRegression\n",
    "\n",
    "%matplotlib inline\n",
    "\n",
    "sns.set()"
   ]
  },
  {
   "cell_type": "code",
   "execution_count": 2,
   "metadata": {},
   "outputs": [],
   "source": [
    "r_insurance_df = pd.read_csv('health_insurance.csv')\n",
    "r_access_df = pd.read_csv('healthcare_access.csv')"
   ]
  },
  {
   "cell_type": "code",
   "execution_count": 3,
   "metadata": {},
   "outputs": [
    {
     "data": {
      "text/html": [
       "<div>\n",
       "<style scoped>\n",
       "    .dataframe tbody tr th:only-of-type {\n",
       "        vertical-align: middle;\n",
       "    }\n",
       "\n",
       "    .dataframe tbody tr th {\n",
       "        vertical-align: top;\n",
       "    }\n",
       "\n",
       "    .dataframe thead th {\n",
       "        text-align: right;\n",
       "    }\n",
       "</style>\n",
       "<table border=\"1\" class=\"dataframe\">\n",
       "  <thead>\n",
       "    <tr style=\"text-align: right;\">\n",
       "      <th></th>\n",
       "      <th>age</th>\n",
       "      <th>sex</th>\n",
       "      <th>weight</th>\n",
       "      <th>bmi</th>\n",
       "      <th>hereditary_diseases</th>\n",
       "      <th>no_of_dependents</th>\n",
       "      <th>smoker</th>\n",
       "      <th>city</th>\n",
       "      <th>bloodpressure</th>\n",
       "      <th>diabetes</th>\n",
       "      <th>regular_ex</th>\n",
       "      <th>job_title</th>\n",
       "      <th>claim</th>\n",
       "    </tr>\n",
       "  </thead>\n",
       "  <tbody>\n",
       "    <tr>\n",
       "      <th>0</th>\n",
       "      <td>60.0</td>\n",
       "      <td>male</td>\n",
       "      <td>64</td>\n",
       "      <td>24.3</td>\n",
       "      <td>NoDisease</td>\n",
       "      <td>1</td>\n",
       "      <td>0</td>\n",
       "      <td>NewYork</td>\n",
       "      <td>72</td>\n",
       "      <td>0</td>\n",
       "      <td>0</td>\n",
       "      <td>Actor</td>\n",
       "      <td>13112.6</td>\n",
       "    </tr>\n",
       "    <tr>\n",
       "      <th>1</th>\n",
       "      <td>49.0</td>\n",
       "      <td>female</td>\n",
       "      <td>75</td>\n",
       "      <td>22.6</td>\n",
       "      <td>NoDisease</td>\n",
       "      <td>1</td>\n",
       "      <td>0</td>\n",
       "      <td>Boston</td>\n",
       "      <td>78</td>\n",
       "      <td>1</td>\n",
       "      <td>1</td>\n",
       "      <td>Engineer</td>\n",
       "      <td>9567.0</td>\n",
       "    </tr>\n",
       "    <tr>\n",
       "      <th>2</th>\n",
       "      <td>32.0</td>\n",
       "      <td>female</td>\n",
       "      <td>64</td>\n",
       "      <td>17.8</td>\n",
       "      <td>Epilepsy</td>\n",
       "      <td>2</td>\n",
       "      <td>1</td>\n",
       "      <td>Phildelphia</td>\n",
       "      <td>88</td>\n",
       "      <td>1</td>\n",
       "      <td>1</td>\n",
       "      <td>Academician</td>\n",
       "      <td>32734.2</td>\n",
       "    </tr>\n",
       "    <tr>\n",
       "      <th>3</th>\n",
       "      <td>61.0</td>\n",
       "      <td>female</td>\n",
       "      <td>53</td>\n",
       "      <td>36.4</td>\n",
       "      <td>NoDisease</td>\n",
       "      <td>1</td>\n",
       "      <td>1</td>\n",
       "      <td>Pittsburg</td>\n",
       "      <td>72</td>\n",
       "      <td>1</td>\n",
       "      <td>0</td>\n",
       "      <td>Chef</td>\n",
       "      <td>48517.6</td>\n",
       "    </tr>\n",
       "    <tr>\n",
       "      <th>4</th>\n",
       "      <td>19.0</td>\n",
       "      <td>female</td>\n",
       "      <td>50</td>\n",
       "      <td>20.6</td>\n",
       "      <td>NoDisease</td>\n",
       "      <td>0</td>\n",
       "      <td>0</td>\n",
       "      <td>Buffalo</td>\n",
       "      <td>82</td>\n",
       "      <td>1</td>\n",
       "      <td>0</td>\n",
       "      <td>HomeMakers</td>\n",
       "      <td>1731.7</td>\n",
       "    </tr>\n",
       "    <tr>\n",
       "      <th>...</th>\n",
       "      <td>...</td>\n",
       "      <td>...</td>\n",
       "      <td>...</td>\n",
       "      <td>...</td>\n",
       "      <td>...</td>\n",
       "      <td>...</td>\n",
       "      <td>...</td>\n",
       "      <td>...</td>\n",
       "      <td>...</td>\n",
       "      <td>...</td>\n",
       "      <td>...</td>\n",
       "      <td>...</td>\n",
       "      <td>...</td>\n",
       "    </tr>\n",
       "    <tr>\n",
       "      <th>14995</th>\n",
       "      <td>39.0</td>\n",
       "      <td>male</td>\n",
       "      <td>49</td>\n",
       "      <td>28.3</td>\n",
       "      <td>NoDisease</td>\n",
       "      <td>1</td>\n",
       "      <td>1</td>\n",
       "      <td>Florence</td>\n",
       "      <td>54</td>\n",
       "      <td>1</td>\n",
       "      <td>0</td>\n",
       "      <td>FilmMaker</td>\n",
       "      <td>21082.2</td>\n",
       "    </tr>\n",
       "    <tr>\n",
       "      <th>14996</th>\n",
       "      <td>39.0</td>\n",
       "      <td>male</td>\n",
       "      <td>74</td>\n",
       "      <td>29.6</td>\n",
       "      <td>NoDisease</td>\n",
       "      <td>4</td>\n",
       "      <td>0</td>\n",
       "      <td>Miami</td>\n",
       "      <td>64</td>\n",
       "      <td>1</td>\n",
       "      <td>0</td>\n",
       "      <td>Student</td>\n",
       "      <td>7512.3</td>\n",
       "    </tr>\n",
       "    <tr>\n",
       "      <th>14997</th>\n",
       "      <td>20.0</td>\n",
       "      <td>male</td>\n",
       "      <td>62</td>\n",
       "      <td>33.3</td>\n",
       "      <td>NoDisease</td>\n",
       "      <td>0</td>\n",
       "      <td>0</td>\n",
       "      <td>Tampa</td>\n",
       "      <td>52</td>\n",
       "      <td>1</td>\n",
       "      <td>0</td>\n",
       "      <td>FashionDesigner</td>\n",
       "      <td>1391.5</td>\n",
       "    </tr>\n",
       "    <tr>\n",
       "      <th>14998</th>\n",
       "      <td>52.0</td>\n",
       "      <td>male</td>\n",
       "      <td>88</td>\n",
       "      <td>36.7</td>\n",
       "      <td>NoDisease</td>\n",
       "      <td>0</td>\n",
       "      <td>0</td>\n",
       "      <td>PanamaCity</td>\n",
       "      <td>70</td>\n",
       "      <td>1</td>\n",
       "      <td>0</td>\n",
       "      <td>Farmer</td>\n",
       "      <td>9144.6</td>\n",
       "    </tr>\n",
       "    <tr>\n",
       "      <th>14999</th>\n",
       "      <td>52.0</td>\n",
       "      <td>male</td>\n",
       "      <td>57</td>\n",
       "      <td>26.4</td>\n",
       "      <td>NoDisease</td>\n",
       "      <td>3</td>\n",
       "      <td>0</td>\n",
       "      <td>Kingsport</td>\n",
       "      <td>72</td>\n",
       "      <td>1</td>\n",
       "      <td>0</td>\n",
       "      <td>Manager</td>\n",
       "      <td>25992.8</td>\n",
       "    </tr>\n",
       "  </tbody>\n",
       "</table>\n",
       "<p>15000 rows × 13 columns</p>\n",
       "</div>"
      ],
      "text/plain": [
       "        age     sex  weight   bmi hereditary_diseases  no_of_dependents  \\\n",
       "0      60.0    male      64  24.3           NoDisease                 1   \n",
       "1      49.0  female      75  22.6           NoDisease                 1   \n",
       "2      32.0  female      64  17.8            Epilepsy                 2   \n",
       "3      61.0  female      53  36.4           NoDisease                 1   \n",
       "4      19.0  female      50  20.6           NoDisease                 0   \n",
       "...     ...     ...     ...   ...                 ...               ...   \n",
       "14995  39.0    male      49  28.3           NoDisease                 1   \n",
       "14996  39.0    male      74  29.6           NoDisease                 4   \n",
       "14997  20.0    male      62  33.3           NoDisease                 0   \n",
       "14998  52.0    male      88  36.7           NoDisease                 0   \n",
       "14999  52.0    male      57  26.4           NoDisease                 3   \n",
       "\n",
       "       smoker         city  bloodpressure  diabetes  regular_ex  \\\n",
       "0           0      NewYork             72         0           0   \n",
       "1           0       Boston             78         1           1   \n",
       "2           1  Phildelphia             88         1           1   \n",
       "3           1    Pittsburg             72         1           0   \n",
       "4           0      Buffalo             82         1           0   \n",
       "...       ...          ...            ...       ...         ...   \n",
       "14995       1     Florence             54         1           0   \n",
       "14996       0        Miami             64         1           0   \n",
       "14997       0        Tampa             52         1           0   \n",
       "14998       0   PanamaCity             70         1           0   \n",
       "14999       0    Kingsport             72         1           0   \n",
       "\n",
       "             job_title    claim  \n",
       "0                Actor  13112.6  \n",
       "1             Engineer   9567.0  \n",
       "2          Academician  32734.2  \n",
       "3                 Chef  48517.6  \n",
       "4           HomeMakers   1731.7  \n",
       "...                ...      ...  \n",
       "14995        FilmMaker  21082.2  \n",
       "14996          Student   7512.3  \n",
       "14997  FashionDesigner   1391.5  \n",
       "14998           Farmer   9144.6  \n",
       "14999          Manager  25992.8  \n",
       "\n",
       "[15000 rows x 13 columns]"
      ]
     },
     "execution_count": 3,
     "metadata": {},
     "output_type": "execute_result"
    }
   ],
   "source": [
    "r_insurance_df"
   ]
  },
  {
   "cell_type": "code",
   "execution_count": 4,
   "metadata": {},
   "outputs": [
    {
     "data": {
      "text/html": [
       "<div>\n",
       "<style scoped>\n",
       "    .dataframe tbody tr th:only-of-type {\n",
       "        vertical-align: middle;\n",
       "    }\n",
       "\n",
       "    .dataframe tbody tr th {\n",
       "        vertical-align: top;\n",
       "    }\n",
       "\n",
       "    .dataframe thead th {\n",
       "        text-align: right;\n",
       "    }\n",
       "</style>\n",
       "<table border=\"1\" class=\"dataframe\">\n",
       "  <thead>\n",
       "    <tr style=\"text-align: right;\">\n",
       "      <th></th>\n",
       "      <th>Year</th>\n",
       "      <th>State</th>\n",
       "      <th>Yes</th>\n",
       "      <th>No</th>\n",
       "      <th>Category</th>\n",
       "      <th>Condition</th>\n",
       "      <th>Location 1</th>\n",
       "    </tr>\n",
       "  </thead>\n",
       "  <tbody>\n",
       "    <tr>\n",
       "      <th>0</th>\n",
       "      <td>2010</td>\n",
       "      <td>Nationwide (States, DC, and Territories)</td>\n",
       "      <td>85%</td>\n",
       "      <td>15%</td>\n",
       "      <td>Health Care Access/Coverage</td>\n",
       "      <td>Do you have any kind of health care coverage?</td>\n",
       "      <td>Nationwide (States, DC, and Territories)\\n</td>\n",
       "    </tr>\n",
       "    <tr>\n",
       "      <th>1</th>\n",
       "      <td>2010</td>\n",
       "      <td>Nationwide (States and DC)</td>\n",
       "      <td>85%</td>\n",
       "      <td>15%</td>\n",
       "      <td>Health Care Access/Coverage</td>\n",
       "      <td>Do you have any kind of health care coverage?</td>\n",
       "      <td>Nationwide (States and DC)\\n</td>\n",
       "    </tr>\n",
       "    <tr>\n",
       "      <th>2</th>\n",
       "      <td>2010</td>\n",
       "      <td>Guam</td>\n",
       "      <td>77.80%</td>\n",
       "      <td>22.20%</td>\n",
       "      <td>Health Care Access/Coverage</td>\n",
       "      <td>Do you have any kind of health care coverage?</td>\n",
       "      <td>Guam\\n</td>\n",
       "    </tr>\n",
       "    <tr>\n",
       "      <th>3</th>\n",
       "      <td>2010</td>\n",
       "      <td>Puerto Rico</td>\n",
       "      <td>92.10%</td>\n",
       "      <td>7.90%</td>\n",
       "      <td>Health Care Access/Coverage</td>\n",
       "      <td>Do you have any kind of health care coverage?</td>\n",
       "      <td>Puerto Rico\\n</td>\n",
       "    </tr>\n",
       "    <tr>\n",
       "      <th>4</th>\n",
       "      <td>2010</td>\n",
       "      <td>Virgin Islands</td>\n",
       "      <td>69.40%</td>\n",
       "      <td>30.60%</td>\n",
       "      <td>Health Care Access/Coverage</td>\n",
       "      <td>Do you have any kind of health care coverage?</td>\n",
       "      <td>Virgin Islands\\n</td>\n",
       "    </tr>\n",
       "    <tr>\n",
       "      <th>...</th>\n",
       "      <td>...</td>\n",
       "      <td>...</td>\n",
       "      <td>...</td>\n",
       "      <td>...</td>\n",
       "      <td>...</td>\n",
       "      <td>...</td>\n",
       "      <td>...</td>\n",
       "    </tr>\n",
       "    <tr>\n",
       "      <th>1635</th>\n",
       "      <td>2010</td>\n",
       "      <td>Alabama</td>\n",
       "      <td>79.90%</td>\n",
       "      <td>20.10%</td>\n",
       "      <td>Health Care Access/Coverage</td>\n",
       "      <td>Adults aged 18-64 who have any kind of health ...</td>\n",
       "      <td>Alabama\\n(32.84057112200048, -86.63186076199969)</td>\n",
       "    </tr>\n",
       "    <tr>\n",
       "      <th>1636</th>\n",
       "      <td>1996</td>\n",
       "      <td>Mississippi</td>\n",
       "      <td>82.70%</td>\n",
       "      <td>17.30%</td>\n",
       "      <td>Health Care Access/Coverage</td>\n",
       "      <td>Adults aged 18-64 who have any kind of health ...</td>\n",
       "      <td>Mississippi\\n(32.745510099000455, -89.53803082...</td>\n",
       "    </tr>\n",
       "    <tr>\n",
       "      <th>1637</th>\n",
       "      <td>1996</td>\n",
       "      <td>Virginia</td>\n",
       "      <td>85.40%</td>\n",
       "      <td>14.60%</td>\n",
       "      <td>Health Care Access/Coverage</td>\n",
       "      <td>Do you have any kind of health care coverage?</td>\n",
       "      <td>Virginia\\n(37.54268067400045, -78.45789046299967)</td>\n",
       "    </tr>\n",
       "    <tr>\n",
       "      <th>1638</th>\n",
       "      <td>2006</td>\n",
       "      <td>Wyoming</td>\n",
       "      <td>82.10%</td>\n",
       "      <td>17.90%</td>\n",
       "      <td>Health Care Access/Coverage</td>\n",
       "      <td>Do you have any kind of health care coverage?</td>\n",
       "      <td>Wyoming\\n(43.23554134300048, -108.10983035299967)</td>\n",
       "    </tr>\n",
       "    <tr>\n",
       "      <th>1639</th>\n",
       "      <td>1996</td>\n",
       "      <td>Tennessee</td>\n",
       "      <td>86.10%</td>\n",
       "      <td>13.90%</td>\n",
       "      <td>Health Care Access/Coverage</td>\n",
       "      <td>Adults aged 18-64 who have any kind of health ...</td>\n",
       "      <td>Tennessee\\n(35.68094058000048, -85.77449091399...</td>\n",
       "    </tr>\n",
       "  </tbody>\n",
       "</table>\n",
       "<p>1640 rows × 7 columns</p>\n",
       "</div>"
      ],
      "text/plain": [
       "      Year                                     State     Yes      No  \\\n",
       "0     2010  Nationwide (States, DC, and Territories)     85%     15%   \n",
       "1     2010                Nationwide (States and DC)     85%     15%   \n",
       "2     2010                                      Guam  77.80%  22.20%   \n",
       "3     2010                               Puerto Rico  92.10%   7.90%   \n",
       "4     2010                            Virgin Islands  69.40%  30.60%   \n",
       "...    ...                                       ...     ...     ...   \n",
       "1635  2010                                   Alabama  79.90%  20.10%   \n",
       "1636  1996                               Mississippi  82.70%  17.30%   \n",
       "1637  1996                                  Virginia  85.40%  14.60%   \n",
       "1638  2006                                   Wyoming  82.10%  17.90%   \n",
       "1639  1996                                 Tennessee  86.10%  13.90%   \n",
       "\n",
       "                         Category  \\\n",
       "0     Health Care Access/Coverage   \n",
       "1     Health Care Access/Coverage   \n",
       "2     Health Care Access/Coverage   \n",
       "3     Health Care Access/Coverage   \n",
       "4     Health Care Access/Coverage   \n",
       "...                           ...   \n",
       "1635  Health Care Access/Coverage   \n",
       "1636  Health Care Access/Coverage   \n",
       "1637  Health Care Access/Coverage   \n",
       "1638  Health Care Access/Coverage   \n",
       "1639  Health Care Access/Coverage   \n",
       "\n",
       "                                              Condition  \\\n",
       "0         Do you have any kind of health care coverage?   \n",
       "1         Do you have any kind of health care coverage?   \n",
       "2         Do you have any kind of health care coverage?   \n",
       "3         Do you have any kind of health care coverage?   \n",
       "4         Do you have any kind of health care coverage?   \n",
       "...                                                 ...   \n",
       "1635  Adults aged 18-64 who have any kind of health ...   \n",
       "1636  Adults aged 18-64 who have any kind of health ...   \n",
       "1637      Do you have any kind of health care coverage?   \n",
       "1638      Do you have any kind of health care coverage?   \n",
       "1639  Adults aged 18-64 who have any kind of health ...   \n",
       "\n",
       "                                             Location 1  \n",
       "0            Nationwide (States, DC, and Territories)\\n  \n",
       "1                          Nationwide (States and DC)\\n  \n",
       "2                                                Guam\\n  \n",
       "3                                         Puerto Rico\\n  \n",
       "4                                      Virgin Islands\\n  \n",
       "...                                                 ...  \n",
       "1635   Alabama\\n(32.84057112200048, -86.63186076199969)  \n",
       "1636  Mississippi\\n(32.745510099000455, -89.53803082...  \n",
       "1637  Virginia\\n(37.54268067400045, -78.45789046299967)  \n",
       "1638  Wyoming\\n(43.23554134300048, -108.10983035299967)  \n",
       "1639  Tennessee\\n(35.68094058000048, -85.77449091399...  \n",
       "\n",
       "[1640 rows x 7 columns]"
      ]
     },
     "execution_count": 4,
     "metadata": {},
     "output_type": "execute_result"
    }
   ],
   "source": [
    "r_access_df"
   ]
  },
  {
   "cell_type": "code",
   "execution_count": 5,
   "metadata": {},
   "outputs": [
    {
     "name": "stdout",
     "output_type": "stream",
     "text": [
      "<class 'pandas.core.frame.DataFrame'>\n",
      "RangeIndex: 15000 entries, 0 to 14999\n",
      "Data columns (total 13 columns):\n",
      " #   Column               Non-Null Count  Dtype  \n",
      "---  ------               --------------  -----  \n",
      " 0   age                  14604 non-null  float64\n",
      " 1   sex                  15000 non-null  object \n",
      " 2   weight               15000 non-null  int64  \n",
      " 3   bmi                  14044 non-null  float64\n",
      " 4   hereditary_diseases  15000 non-null  object \n",
      " 5   no_of_dependents     15000 non-null  int64  \n",
      " 6   smoker               15000 non-null  int64  \n",
      " 7   city                 15000 non-null  object \n",
      " 8   bloodpressure        15000 non-null  int64  \n",
      " 9   diabetes             15000 non-null  int64  \n",
      " 10  regular_ex           15000 non-null  int64  \n",
      " 11  job_title            15000 non-null  object \n",
      " 12  claim                15000 non-null  float64\n",
      "dtypes: float64(3), int64(6), object(4)\n",
      "memory usage: 1.5+ MB\n"
     ]
    }
   ],
   "source": [
    "r_insurance_df.info(20)"
   ]
  },
  {
   "cell_type": "code",
   "execution_count": 6,
   "metadata": {},
   "outputs": [
    {
     "name": "stdout",
     "output_type": "stream",
     "text": [
      "<class 'pandas.core.frame.DataFrame'>\n",
      "RangeIndex: 1640 entries, 0 to 1639\n",
      "Data columns (total 7 columns):\n",
      " #   Column      Non-Null Count  Dtype \n",
      "---  ------      --------------  ----- \n",
      " 0   Year        1640 non-null   int64 \n",
      " 1   State       1640 non-null   object\n",
      " 2   Yes         1640 non-null   object\n",
      " 3   No          1640 non-null   object\n",
      " 4   Category    1640 non-null   object\n",
      " 5   Condition   1640 non-null   object\n",
      " 6   Location 1  1640 non-null   object\n",
      "dtypes: int64(1), object(6)\n",
      "memory usage: 89.8+ KB\n"
     ]
    }
   ],
   "source": [
    "r_access_df.info(20)"
   ]
  },
  {
   "cell_type": "code",
   "execution_count": 7,
   "metadata": {},
   "outputs": [],
   "source": [
    "insurance_df = r_insurance_df.copy()\n",
    "\n",
    "access_df = r_access_df.copy()"
   ]
  },
  {
   "cell_type": "code",
   "execution_count": 8,
   "metadata": {},
   "outputs": [
    {
     "data": {
      "text/html": [
       "<div>\n",
       "<style scoped>\n",
       "    .dataframe tbody tr th:only-of-type {\n",
       "        vertical-align: middle;\n",
       "    }\n",
       "\n",
       "    .dataframe tbody tr th {\n",
       "        vertical-align: top;\n",
       "    }\n",
       "\n",
       "    .dataframe thead th {\n",
       "        text-align: right;\n",
       "    }\n",
       "</style>\n",
       "<table border=\"1\" class=\"dataframe\">\n",
       "  <thead>\n",
       "    <tr style=\"text-align: right;\">\n",
       "      <th></th>\n",
       "      <th>age</th>\n",
       "      <th>sex</th>\n",
       "      <th>weight</th>\n",
       "      <th>bmi</th>\n",
       "      <th>hereditary_diseases</th>\n",
       "      <th>no_of_dependents</th>\n",
       "      <th>smoker</th>\n",
       "      <th>city</th>\n",
       "      <th>bloodpressure</th>\n",
       "      <th>diabetes</th>\n",
       "      <th>regular_ex</th>\n",
       "      <th>job_title</th>\n",
       "      <th>claim</th>\n",
       "    </tr>\n",
       "  </thead>\n",
       "  <tbody>\n",
       "    <tr>\n",
       "      <th>0</th>\n",
       "      <td>60.0</td>\n",
       "      <td>male</td>\n",
       "      <td>64</td>\n",
       "      <td>24.3</td>\n",
       "      <td>NoDisease</td>\n",
       "      <td>1</td>\n",
       "      <td>0</td>\n",
       "      <td>NewYork</td>\n",
       "      <td>72</td>\n",
       "      <td>0</td>\n",
       "      <td>0</td>\n",
       "      <td>Actor</td>\n",
       "      <td>13112.6</td>\n",
       "    </tr>\n",
       "    <tr>\n",
       "      <th>1</th>\n",
       "      <td>49.0</td>\n",
       "      <td>female</td>\n",
       "      <td>75</td>\n",
       "      <td>22.6</td>\n",
       "      <td>NoDisease</td>\n",
       "      <td>1</td>\n",
       "      <td>0</td>\n",
       "      <td>Boston</td>\n",
       "      <td>78</td>\n",
       "      <td>1</td>\n",
       "      <td>1</td>\n",
       "      <td>Engineer</td>\n",
       "      <td>9567.0</td>\n",
       "    </tr>\n",
       "    <tr>\n",
       "      <th>2</th>\n",
       "      <td>32.0</td>\n",
       "      <td>female</td>\n",
       "      <td>64</td>\n",
       "      <td>17.8</td>\n",
       "      <td>Epilepsy</td>\n",
       "      <td>2</td>\n",
       "      <td>1</td>\n",
       "      <td>Phildelphia</td>\n",
       "      <td>88</td>\n",
       "      <td>1</td>\n",
       "      <td>1</td>\n",
       "      <td>Academician</td>\n",
       "      <td>32734.2</td>\n",
       "    </tr>\n",
       "    <tr>\n",
       "      <th>3</th>\n",
       "      <td>61.0</td>\n",
       "      <td>female</td>\n",
       "      <td>53</td>\n",
       "      <td>36.4</td>\n",
       "      <td>NoDisease</td>\n",
       "      <td>1</td>\n",
       "      <td>1</td>\n",
       "      <td>Pittsburg</td>\n",
       "      <td>72</td>\n",
       "      <td>1</td>\n",
       "      <td>0</td>\n",
       "      <td>Chef</td>\n",
       "      <td>48517.6</td>\n",
       "    </tr>\n",
       "    <tr>\n",
       "      <th>4</th>\n",
       "      <td>19.0</td>\n",
       "      <td>female</td>\n",
       "      <td>50</td>\n",
       "      <td>20.6</td>\n",
       "      <td>NoDisease</td>\n",
       "      <td>0</td>\n",
       "      <td>0</td>\n",
       "      <td>Buffalo</td>\n",
       "      <td>82</td>\n",
       "      <td>1</td>\n",
       "      <td>0</td>\n",
       "      <td>HomeMakers</td>\n",
       "      <td>1731.7</td>\n",
       "    </tr>\n",
       "  </tbody>\n",
       "</table>\n",
       "</div>"
      ],
      "text/plain": [
       "    age     sex  weight   bmi hereditary_diseases  no_of_dependents  smoker  \\\n",
       "0  60.0    male      64  24.3           NoDisease                 1       0   \n",
       "1  49.0  female      75  22.6           NoDisease                 1       0   \n",
       "2  32.0  female      64  17.8            Epilepsy                 2       1   \n",
       "3  61.0  female      53  36.4           NoDisease                 1       1   \n",
       "4  19.0  female      50  20.6           NoDisease                 0       0   \n",
       "\n",
       "          city  bloodpressure  diabetes  regular_ex    job_title    claim  \n",
       "0      NewYork             72         0           0        Actor  13112.6  \n",
       "1       Boston             78         1           1     Engineer   9567.0  \n",
       "2  Phildelphia             88         1           1  Academician  32734.2  \n",
       "3    Pittsburg             72         1           0         Chef  48517.6  \n",
       "4      Buffalo             82         1           0   HomeMakers   1731.7  "
      ]
     },
     "execution_count": 8,
     "metadata": {},
     "output_type": "execute_result"
    }
   ],
   "source": [
    "insurance_df.head()"
   ]
  },
  {
   "cell_type": "code",
   "execution_count": 10,
   "metadata": {},
   "outputs": [
    {
     "name": "stdout",
     "output_type": "stream",
     "text": [
      "<class 'pandas.core.frame.DataFrame'>\n",
      "RangeIndex: 15000 entries, 0 to 14999\n",
      "Data columns (total 13 columns):\n",
      " #   Column               Non-Null Count  Dtype  \n",
      "---  ------               --------------  -----  \n",
      " 0   age                  14604 non-null  float64\n",
      " 1   sex                  15000 non-null  object \n",
      " 2   weight               15000 non-null  int64  \n",
      " 3   bmi                  14044 non-null  float64\n",
      " 4   hereditary_diseases  15000 non-null  object \n",
      " 5   no_of_dependents     15000 non-null  int64  \n",
      " 6   smoker               15000 non-null  int64  \n",
      " 7   city                 15000 non-null  object \n",
      " 8   bloodpressure        15000 non-null  int64  \n",
      " 9   diabetes             15000 non-null  int64  \n",
      " 10  regular_ex           15000 non-null  int64  \n",
      " 11  job_title            15000 non-null  object \n",
      " 12  claim                15000 non-null  float64\n",
      "dtypes: float64(3), int64(6), object(4)\n",
      "memory usage: 1.5+ MB\n"
     ]
    }
   ],
   "source": [
    "insurance_df.info()"
   ]
  },
  {
   "cell_type": "code",
   "execution_count": 11,
   "metadata": {},
   "outputs": [
    {
     "data": {
      "text/plain": [
       "(15000, 13)"
      ]
     },
     "execution_count": 11,
     "metadata": {},
     "output_type": "execute_result"
    }
   ],
   "source": [
    "insurance_df.shape"
   ]
  },
  {
   "cell_type": "code",
   "execution_count": 12,
   "metadata": {},
   "outputs": [
    {
     "data": {
      "text/plain": [
       "['age',\n",
       " 'sex',\n",
       " 'weight',\n",
       " 'bmi',\n",
       " 'hereditary_diseases',\n",
       " 'no_of_dependents',\n",
       " 'smoker',\n",
       " 'city',\n",
       " 'bloodpressure',\n",
       " 'diabetes',\n",
       " 'regular_ex',\n",
       " 'job_title',\n",
       " 'claim']"
      ]
     },
     "execution_count": 12,
     "metadata": {},
     "output_type": "execute_result"
    }
   ],
   "source": [
    "insurance_df.columns.to_list()"
   ]
  },
  {
   "cell_type": "code",
   "execution_count": 13,
   "metadata": {},
   "outputs": [
    {
     "data": {
      "text/html": [
       "<div>\n",
       "<style scoped>\n",
       "    .dataframe tbody tr th:only-of-type {\n",
       "        vertical-align: middle;\n",
       "    }\n",
       "\n",
       "    .dataframe tbody tr th {\n",
       "        vertical-align: top;\n",
       "    }\n",
       "\n",
       "    .dataframe thead th {\n",
       "        text-align: right;\n",
       "    }\n",
       "</style>\n",
       "<table border=\"1\" class=\"dataframe\">\n",
       "  <thead>\n",
       "    <tr style=\"text-align: right;\">\n",
       "      <th></th>\n",
       "      <th>Year</th>\n",
       "      <th>State</th>\n",
       "      <th>Yes</th>\n",
       "      <th>No</th>\n",
       "      <th>Category</th>\n",
       "      <th>Condition</th>\n",
       "      <th>Location 1</th>\n",
       "    </tr>\n",
       "  </thead>\n",
       "  <tbody>\n",
       "    <tr>\n",
       "      <th>0</th>\n",
       "      <td>2010</td>\n",
       "      <td>Nationwide (States, DC, and Territories)</td>\n",
       "      <td>85%</td>\n",
       "      <td>15%</td>\n",
       "      <td>Health Care Access/Coverage</td>\n",
       "      <td>Do you have any kind of health care coverage?</td>\n",
       "      <td>Nationwide (States, DC, and Territories)\\n</td>\n",
       "    </tr>\n",
       "    <tr>\n",
       "      <th>1</th>\n",
       "      <td>2010</td>\n",
       "      <td>Nationwide (States and DC)</td>\n",
       "      <td>85%</td>\n",
       "      <td>15%</td>\n",
       "      <td>Health Care Access/Coverage</td>\n",
       "      <td>Do you have any kind of health care coverage?</td>\n",
       "      <td>Nationwide (States and DC)\\n</td>\n",
       "    </tr>\n",
       "    <tr>\n",
       "      <th>2</th>\n",
       "      <td>2010</td>\n",
       "      <td>Guam</td>\n",
       "      <td>77.80%</td>\n",
       "      <td>22.20%</td>\n",
       "      <td>Health Care Access/Coverage</td>\n",
       "      <td>Do you have any kind of health care coverage?</td>\n",
       "      <td>Guam\\n</td>\n",
       "    </tr>\n",
       "    <tr>\n",
       "      <th>3</th>\n",
       "      <td>2010</td>\n",
       "      <td>Puerto Rico</td>\n",
       "      <td>92.10%</td>\n",
       "      <td>7.90%</td>\n",
       "      <td>Health Care Access/Coverage</td>\n",
       "      <td>Do you have any kind of health care coverage?</td>\n",
       "      <td>Puerto Rico\\n</td>\n",
       "    </tr>\n",
       "    <tr>\n",
       "      <th>4</th>\n",
       "      <td>2010</td>\n",
       "      <td>Virgin Islands</td>\n",
       "      <td>69.40%</td>\n",
       "      <td>30.60%</td>\n",
       "      <td>Health Care Access/Coverage</td>\n",
       "      <td>Do you have any kind of health care coverage?</td>\n",
       "      <td>Virgin Islands\\n</td>\n",
       "    </tr>\n",
       "  </tbody>\n",
       "</table>\n",
       "</div>"
      ],
      "text/plain": [
       "   Year                                     State     Yes      No  \\\n",
       "0  2010  Nationwide (States, DC, and Territories)     85%     15%   \n",
       "1  2010                Nationwide (States and DC)     85%     15%   \n",
       "2  2010                                      Guam  77.80%  22.20%   \n",
       "3  2010                               Puerto Rico  92.10%   7.90%   \n",
       "4  2010                            Virgin Islands  69.40%  30.60%   \n",
       "\n",
       "                      Category                                      Condition  \\\n",
       "0  Health Care Access/Coverage  Do you have any kind of health care coverage?   \n",
       "1  Health Care Access/Coverage  Do you have any kind of health care coverage?   \n",
       "2  Health Care Access/Coverage  Do you have any kind of health care coverage?   \n",
       "3  Health Care Access/Coverage  Do you have any kind of health care coverage?   \n",
       "4  Health Care Access/Coverage  Do you have any kind of health care coverage?   \n",
       "\n",
       "                                   Location 1  \n",
       "0  Nationwide (States, DC, and Territories)\\n  \n",
       "1                Nationwide (States and DC)\\n  \n",
       "2                                      Guam\\n  \n",
       "3                               Puerto Rico\\n  \n",
       "4                            Virgin Islands\\n  "
      ]
     },
     "execution_count": 13,
     "metadata": {},
     "output_type": "execute_result"
    }
   ],
   "source": [
    "access_df.head()"
   ]
  },
  {
   "cell_type": "code",
   "execution_count": 14,
   "metadata": {},
   "outputs": [
    {
     "name": "stdout",
     "output_type": "stream",
     "text": [
      "<class 'pandas.core.frame.DataFrame'>\n",
      "RangeIndex: 1640 entries, 0 to 1639\n",
      "Data columns (total 7 columns):\n",
      " #   Column      Non-Null Count  Dtype \n",
      "---  ------      --------------  ----- \n",
      " 0   Year        1640 non-null   int64 \n",
      " 1   State       1640 non-null   object\n",
      " 2   Yes         1640 non-null   object\n",
      " 3   No          1640 non-null   object\n",
      " 4   Category    1640 non-null   object\n",
      " 5   Condition   1640 non-null   object\n",
      " 6   Location 1  1640 non-null   object\n",
      "dtypes: int64(1), object(6)\n",
      "memory usage: 89.8+ KB\n"
     ]
    }
   ],
   "source": [
    "access_df.info()"
   ]
  },
  {
   "cell_type": "code",
   "execution_count": 15,
   "metadata": {},
   "outputs": [
    {
     "data": {
      "text/plain": [
       "(1640, 7)"
      ]
     },
     "execution_count": 15,
     "metadata": {},
     "output_type": "execute_result"
    }
   ],
   "source": [
    "access_df.shape"
   ]
  },
  {
   "cell_type": "code",
   "execution_count": 16,
   "metadata": {},
   "outputs": [
    {
     "data": {
      "text/plain": [
       "['Year', 'State', 'Yes', 'No', 'Category', 'Condition', 'Location 1']"
      ]
     },
     "execution_count": 16,
     "metadata": {},
     "output_type": "execute_result"
    }
   ],
   "source": [
    "access_df.columns.to_list()"
   ]
  },
  {
   "cell_type": "code",
   "execution_count": 17,
   "metadata": {},
   "outputs": [
    {
     "name": "stdout",
     "output_type": "stream",
     "text": [
      "<class 'pandas.core.frame.DataFrame'>\n",
      "RangeIndex: 1640 entries, 0 to 1639\n",
      "Data columns (total 7 columns):\n",
      " #   Column      Non-Null Count  Dtype \n",
      "---  ------      --------------  ----- \n",
      " 0   Year        1640 non-null   int64 \n",
      " 1   State       1640 non-null   object\n",
      " 2   Yes         1640 non-null   object\n",
      " 3   No          1640 non-null   object\n",
      " 4   Category    1640 non-null   object\n",
      " 5   Condition   1640 non-null   object\n",
      " 6   Location 1  1640 non-null   object\n",
      "dtypes: int64(1), object(6)\n",
      "memory usage: 89.8+ KB\n"
     ]
    }
   ],
   "source": [
    "access_df.info()"
   ]
  },
  {
   "cell_type": "code",
   "execution_count": 18,
   "metadata": {},
   "outputs": [
    {
     "data": {
      "text/plain": [
       "age                    396\n",
       "sex                      0\n",
       "weight                   0\n",
       "bmi                    956\n",
       "hereditary_diseases      0\n",
       "no_of_dependents         0\n",
       "smoker                   0\n",
       "city                     0\n",
       "bloodpressure            0\n",
       "diabetes                 0\n",
       "regular_ex               0\n",
       "job_title                0\n",
       "claim                    0\n",
       "dtype: int64"
      ]
     },
     "execution_count": 18,
     "metadata": {},
     "output_type": "execute_result"
    }
   ],
   "source": [
    "insurance_df.isna().sum()"
   ]
  },
  {
   "cell_type": "code",
   "execution_count": 19,
   "metadata": {},
   "outputs": [
    {
     "data": {
      "text/plain": [
       "Year          0\n",
       "State         0\n",
       "Yes           0\n",
       "No            0\n",
       "Category      0\n",
       "Condition     0\n",
       "Location 1    0\n",
       "dtype: int64"
      ]
     },
     "execution_count": 19,
     "metadata": {},
     "output_type": "execute_result"
    }
   ],
   "source": [
    "access_df.isna().sum()"
   ]
  },
  {
   "cell_type": "markdown",
   "metadata": {},
   "source": [
    "## Analysis"
   ]
  },
  {
   "cell_type": "code",
   "execution_count": 26,
   "metadata": {},
   "outputs": [
    {
     "data": {
      "text/plain": [
       "<Figure size 800x800 with 0 Axes>"
      ]
     },
     "metadata": {},
     "output_type": "display_data"
    },
    {
     "data": {
      "image/png": "[encoded data removed]",
      "text/plain": [
       "<Figure size 500x500 with 1 Axes>"
      ]
     },
     "metadata": {},
     "output_type": "display_data"
    }
   ],
   "source": [
    "plt.figure(figsize=(8,8))\n",
    "sns.displot(insurance_df['age'])\n",
    "plt.title(\"Age Distribution\")\n",
    "plt.show()"
   ]
  },
  {
   "cell_type": "code",
   "execution_count": 27,
   "metadata": {},
   "outputs": [
    {
     "name": "stderr",
     "output_type": "stream",
     "text": [
      "/Users/cuddoongaraado/opt/anaconda3/envs/data_capstone_venv/lib/python3.7/site-packages/seaborn/_decorators.py:43: FutureWarning: Pass the following variable as a keyword arg: x. From version 0.12, the only valid positional argument will be `data`, and passing other arguments without an explicit keyword will result in an error or misinterpretation.\n",
      "  FutureWarning\n"
     ]
    },
    {
     "data": {
      "image/png": "[encoded data removed]",
      "text/plain": [
       "<Figure size 800x800 with 1 Axes>"
      ]
     },
     "metadata": {},
     "output_type": "display_data"
    },
    {
     "name": "stdout",
     "output_type": "stream",
     "text": [
      "female    7652\n",
      "male      7348\n",
      "Name: sex, dtype: int64\n"
     ]
    }
   ],
   "source": [
    "plt.figure(figsize=(8,8))\n",
    "sns.countplot(insurance_df['sex'])\n",
    "plt.title(\"Gender Distribution\")\n",
    "plt.show()\n",
    "print(insurance_df[\"sex\"].value_counts())"
   ]
  },
  {
   "cell_type": "code",
   "execution_count": 28,
   "metadata": {
    "scrolled": true
   },
   "outputs": [
    {
     "data": {
      "text/plain": [
       "<Figure size 800x800 with 0 Axes>"
      ]
     },
     "metadata": {},
     "output_type": "display_data"
    },
    {
     "data": {
      "image/png": "[encoded data removed]",
      "text/plain": [
       "<Figure size 500x500 with 1 Axes>"
      ]
     },
     "metadata": {},
     "output_type": "display_data"
    }
   ],
   "source": [
    "plt.figure(figsize=(8,8));\n",
    "sns.displot(insurance_df['weight']);\n",
    "plt.title(\"Weight Distribution\");\n",
    "plt.show();"
   ]
  },
  {
   "cell_type": "code",
   "execution_count": 29,
   "metadata": {
    "scrolled": true
   },
   "outputs": [
    {
     "data": {
      "text/plain": [
       "<Figure size 800x800 with 0 Axes>"
      ]
     },
     "metadata": {},
     "output_type": "display_data"
    },
    {
     "data": {
      "image/png": "[encoded data removed]",
      "text/plain": [
       "<Figure size 500x500 with 1 Axes>"
      ]
     },
     "metadata": {},
     "output_type": "display_data"
    }
   ],
   "source": [
    "plt.figure(figsize=(8,8));\n",
    "sns.displot(insurance_df['bmi']);\n",
    "plt.title(\"BMI Distribution\");\n",
    "plt.show();"
   ]
  },
  {
   "cell_type": "code",
   "execution_count": 30,
   "metadata": {
    "scrolled": true
   },
   "outputs": [
    {
     "name": "stderr",
     "output_type": "stream",
     "text": [
      "/Users/cuddoongaraado/opt/anaconda3/envs/data_capstone_venv/lib/python3.7/site-packages/seaborn/_decorators.py:43: FutureWarning: Pass the following variable as a keyword arg: x. From version 0.12, the only valid positional argument will be `data`, and passing other arguments without an explicit keyword will result in an error or misinterpretation.\n",
      "  FutureWarning\n"
     ]
    },
    {
     "data": {
      "image/png": "[encoded data removed]",
      "text/plain": [
       "<Figure size 800x800 with 1 Axes>"
      ]
     },
     "metadata": {},
     "output_type": "display_data"
    },
    {
     "name": "stdout",
     "output_type": "stream",
     "text": [
      "NoDisease       13998\n",
      "Diabetes          148\n",
      "Alzheimer         144\n",
      "Obesity           136\n",
      "EyeDisease        123\n",
      "Cancer            109\n",
      "Arthritis          96\n",
      "HeartDisease       93\n",
      "Epilepsy           84\n",
      "High BP            69\n",
      "Name: hereditary_diseases, dtype: int64\n"
     ]
    }
   ],
   "source": [
    "plt.figure(figsize=(8,8));\n",
    "sns.countplot(insurance_df['hereditary_diseases']);\n",
    "plt.title(\"Hereditary Diseases Distribution\");\n",
    "plt.show();\n",
    "print(insurance_df[\"hereditary_diseases\"].value_counts());"
   ]
  },
  {
   "cell_type": "code",
   "execution_count": 31,
   "metadata": {},
   "outputs": [
    {
     "name": "stderr",
     "output_type": "stream",
     "text": [
      "/Users/cuddoongaraado/opt/anaconda3/envs/data_capstone_venv/lib/python3.7/site-packages/seaborn/_decorators.py:43: FutureWarning: Pass the following variable as a keyword arg: x. From version 0.12, the only valid positional argument will be `data`, and passing other arguments without an explicit keyword will result in an error or misinterpretation.\n",
      "  FutureWarning\n"
     ]
    },
    {
     "data": {
      "image/png": "[encoded data removed]",
      "text/plain": [
       "<Figure size 800x800 with 1 Axes>"
      ]
     },
     "metadata": {},
     "output_type": "display_data"
    }
   ],
   "source": [
    "plt.figure(figsize=(8,8));\n",
    "sns.countplot(insurance_df['no_of_dependents']);\n",
    "plt.title(\"Number of Dependents Distribution\");\n",
    "plt.show();"
   ]
  },
  {
   "cell_type": "code",
   "execution_count": 32,
   "metadata": {},
   "outputs": [
    {
     "name": "stderr",
     "output_type": "stream",
     "text": [
      "/Users/cuddoongaraado/opt/anaconda3/envs/data_capstone_venv/lib/python3.7/site-packages/seaborn/_decorators.py:43: FutureWarning: Pass the following variable as a keyword arg: x. From version 0.12, the only valid positional argument will be `data`, and passing other arguments without an explicit keyword will result in an error or misinterpretation.\n",
      "  FutureWarning\n"
     ]
    },
    {
     "data": {
      "image/png": "[encoded data removed]",
      "text/plain": [
       "<Figure size 800x800 with 1 Axes>"
      ]
     },
     "metadata": {},
     "output_type": "display_data"
    },
    {
     "name": "stdout",
     "output_type": "stream",
     "text": [
      "0    12028\n",
      "1     2972\n",
      "Name: smoker, dtype: int64\n"
     ]
    }
   ],
   "source": [
    "plt.figure(figsize=(8,8));\n",
    "sns.countplot(insurance_df['smoker']);\n",
    "plt.title(\"Smoker Distribution\");\n",
    "plt.show();\n",
    "print(insurance_df[\"smoker\"].value_counts());"
   ]
  },
  {
   "cell_type": "code",
   "execution_count": 33,
   "metadata": {},
   "outputs": [
    {
     "name": "stderr",
     "output_type": "stream",
     "text": [
      "/Users/cuddoongaraado/opt/anaconda3/envs/data_capstone_venv/lib/python3.7/site-packages/seaborn/_decorators.py:43: FutureWarning: Pass the following variable as a keyword arg: x. From version 0.12, the only valid positional argument will be `data`, and passing other arguments without an explicit keyword will result in an error or misinterpretation.\n",
      "  FutureWarning\n"
     ]
    },
    {
     "data": {
      "image/png": "[encoded data removed]",
      "text/plain": [
       "<Figure size 800x800 with 1 Axes>"
      ]
     },
     "metadata": {},
     "output_type": "display_data"
    }
   ],
   "source": [
    "plt.figure(figsize=(8,8));\n",
    "sns.countplot(insurance_df['diabetes']);\n",
    "plt.title(\"Diabetes Distribution\");\n",
    "plt.show();"
   ]
  },
  {
   "cell_type": "code",
   "execution_count": 34,
   "metadata": {},
   "outputs": [
    {
     "name": "stderr",
     "output_type": "stream",
     "text": [
      "/Users/cuddoongaraado/opt/anaconda3/envs/data_capstone_venv/lib/python3.7/site-packages/seaborn/_decorators.py:43: FutureWarning: Pass the following variable as a keyword arg: x. From version 0.12, the only valid positional argument will be `data`, and passing other arguments without an explicit keyword will result in an error or misinterpretation.\n",
      "  FutureWarning\n"
     ]
    },
    {
     "data": {
      "image/png": "[encoded data removed]",
      "text/plain": [
       "<Figure size 800x800 with 1 Axes>"
      ]
     },
     "metadata": {},
     "output_type": "display_data"
    }
   ],
   "source": [
    "plt.figure(figsize=(8,8));\n",
    "sns.countplot(insurance_df['regular_ex']);\n",
    "plt.title(\"Regular Excercise Distribution\");\n",
    "plt.show();"
   ]
  },
  {
   "cell_type": "code",
   "execution_count": 35,
   "metadata": {},
   "outputs": [
    {
     "data": {
      "text/plain": [
       "<Figure size 800x800 with 0 Axes>"
      ]
     },
     "metadata": {},
     "output_type": "display_data"
    },
    {
     "data": {
      "image/png": "[encoded data removed]",
      "text/plain": [
       "<Figure size 500x500 with 1 Axes>"
      ]
     },
     "metadata": {},
     "output_type": "display_data"
    }
   ],
   "source": [
    "plt.figure(figsize=(8,8));\n",
    "sns.displot(insurance_df['claim']);\n",
    "plt.title(\"Claim Distribution\");\n",
    "plt.show();"
   ]
  },
  {
   "cell_type": "markdown",
   "metadata": {},
   "source": [
    "## Data Cleaning"
   ]
  },
  {
   "cell_type": "code",
   "execution_count": 9,
   "metadata": {},
   "outputs": [
    {
     "data": {
      "text/plain": [
       "91"
      ]
     },
     "execution_count": 9,
     "metadata": {},
     "output_type": "execute_result"
    }
   ],
   "source": [
    "insurance_df.city.nunique()"
   ]
  },
  {
   "cell_type": "code",
   "execution_count": 47,
   "metadata": {},
   "outputs": [
    {
     "data": {
      "text/plain": [
       "array(['NewYork', 'Boston', 'Phildelphia', 'Pittsburg', 'Buffalo',\n",
       "       'AtlanticCity', 'Portland', 'Cambridge', 'Hartford', 'Springfield',\n",
       "       'Syracuse', 'Baltimore', 'York', 'Trenton', 'Warwick',\n",
       "       'WashingtonDC', 'Providence', 'Harrisburg', 'Newport', 'Stamford',\n",
       "       'Worcester', 'Atlanta', 'Brimingham', 'Charleston', 'Charlotte',\n",
       "       'Louisville', 'Memphis', 'Nashville', 'NewOrleans', 'Raleigh',\n",
       "       'Houston', 'Georgia', 'Oklahoma', 'Orlando', 'Macon', 'Huntsville',\n",
       "       'Knoxville', 'Florence', 'Miami', 'Tampa', 'PanamaCity',\n",
       "       'Kingsport', 'Marshall', 'Mandan', 'Waterloo', 'IowaCity',\n",
       "       'Columbia', 'Indianapolis', 'Cincinnati', 'Bloomington', 'Salina',\n",
       "       'KanasCity', 'Brookings', 'Minot', 'Chicago', 'Lincoln',\n",
       "       'FallsCity', 'GrandForks', 'Fargo', 'Cleveland', 'Canton',\n",
       "       'Columbus', 'Rochester', 'Minneapolis', 'JeffersonCity',\n",
       "       'Escabana', 'Youngstown', 'SantaRosa', 'Eureka', 'SanFrancisco',\n",
       "       'SanJose', 'LosAngeles', 'Oxnard', 'SanDeigo', 'Oceanside',\n",
       "       'Carlsbad', 'Montrose', 'Prescott', 'Fresno', 'Reno', 'LasVegas',\n",
       "       'Tucson', 'SanLuis', 'Denver', 'Kingman', 'Bakersfield',\n",
       "       'Mexicali', 'SilverCity', 'Pheonix', 'SantaFe', 'Lovelock'],\n",
       "      dtype=object)"
      ]
     },
     "execution_count": 47,
     "metadata": {},
     "output_type": "execute_result"
    }
   ],
   "source": [
    "insurance_df.city.unique()"
   ]
  },
  {
   "cell_type": "code",
   "execution_count": 50,
   "metadata": {},
   "outputs": [],
   "source": [
    "insurance_df.replace({'Boston':'MA'}, inplace=True)"
   ]
  },
  {
   "cell_type": "code",
   "execution_count": 51,
   "metadata": {},
   "outputs": [
    {
     "data": {
      "text/plain": [
       "array(['NewYork', 'MA', 'Phildelphia', 'Pittsburg', 'Buffalo',\n",
       "       'AtlanticCity', 'Portland', 'Cambridge', 'Hartford', 'Springfield',\n",
       "       'Syracuse', 'Baltimore', 'York', 'Trenton', 'Warwick',\n",
       "       'WashingtonDC', 'Providence', 'Harrisburg', 'Newport', 'Stamford',\n",
       "       'Worcester', 'Atlanta', 'Brimingham', 'Charleston', 'Charlotte',\n",
       "       'Louisville', 'Memphis', 'Nashville', 'NewOrleans', 'Raleigh',\n",
       "       'Houston', 'Georgia', 'Oklahoma', 'Orlando', 'Macon', 'Huntsville',\n",
       "       'Knoxville', 'Florence', 'Miami', 'Tampa', 'PanamaCity',\n",
       "       'Kingsport', 'Marshall', 'Mandan', 'Waterloo', 'IowaCity',\n",
       "       'Columbia', 'Indianapolis', 'Cincinnati', 'Bloomington', 'Salina',\n",
       "       'KanasCity', 'Brookings', 'Minot', 'Chicago', 'Lincoln',\n",
       "       'FallsCity', 'GrandForks', 'Fargo', 'Cleveland', 'Canton',\n",
       "       'Columbus', 'Rochester', 'Minneapolis', 'JeffersonCity',\n",
       "       'Escabana', 'Youngstown', 'SantaRosa', 'Eureka', 'SanFrancisco',\n",
       "       'SanJose', 'LosAngeles', 'Oxnard', 'SanDeigo', 'Oceanside',\n",
       "       'Carlsbad', 'Montrose', 'Prescott', 'Fresno', 'Reno', 'LasVegas',\n",
       "       'Tucson', 'SanLuis', 'Denver', 'Kingman', 'Bakersfield',\n",
       "       'Mexicali', 'SilverCity', 'Pheonix', 'SantaFe', 'Lovelock'],\n",
       "      dtype=object)"
      ]
     },
     "execution_count": 51,
     "metadata": {},
     "output_type": "execute_result"
    }
   ],
   "source": [
    "insurance_df.city.unique()"
   ]
  },
  {
   "cell_type": "code",
   "execution_count": 49,
   "metadata": {},
   "outputs": [
    {
     "data": {
      "text/plain": [
       "array(['Nationwide (States, DC, and Territories)',\n",
       "       'Nationwide (States and DC)', 'Guam', 'Puerto Rico',\n",
       "       'Virgin Islands', 'New Jersey', 'Texas', 'South Carolina',\n",
       "       'Virginia', 'Kentucky', 'Connecticut', 'Arizona', 'Oregon',\n",
       "       'Idaho', 'Vermont', 'Missouri', 'Oklahoma', 'Montana', 'Louisiana',\n",
       "       'Indiana', 'Florida', 'New Hampshire', 'Kansas',\n",
       "       'District of Columbia', 'New Mexico', 'Alabama', 'California',\n",
       "       'Wyoming', 'New York', 'South Dakota', 'Nevada', 'Maryland',\n",
       "       'Iowa', 'Massachusetts', 'Maine', 'North Carolina', 'Rhode Island',\n",
       "       'Nebraska', 'Arkansas', 'Mississippi', 'Minnesota', 'Hawaii',\n",
       "       'Tennessee', 'North Dakota', 'West Virginia', 'Colorado',\n",
       "       'Illinois', 'Utah', 'Alaska', 'Delaware', 'Michigan', 'Washington',\n",
       "       'Ohio', 'Wisconsin', 'Georgia', 'Pennsylvania'], dtype=object)"
      ]
     },
     "execution_count": 49,
     "metadata": {},
     "output_type": "execute_result"
    }
   ],
   "source": [
    "access_df.state.unique()"
   ]
  },
  {
   "cell_type": "code",
   "execution_count": 20,
   "metadata": {},
   "outputs": [
    {
     "data": {
      "text/html": [
       "<div>\n",
       "<style scoped>\n",
       "    .dataframe tbody tr th:only-of-type {\n",
       "        vertical-align: middle;\n",
       "    }\n",
       "\n",
       "    .dataframe tbody tr th {\n",
       "        vertical-align: top;\n",
       "    }\n",
       "\n",
       "    .dataframe thead th {\n",
       "        text-align: right;\n",
       "    }\n",
       "</style>\n",
       "<table border=\"1\" class=\"dataframe\">\n",
       "  <thead>\n",
       "    <tr style=\"text-align: right;\">\n",
       "      <th></th>\n",
       "      <th>Year</th>\n",
       "      <th>State</th>\n",
       "      <th>Yes</th>\n",
       "      <th>No</th>\n",
       "      <th>Category</th>\n",
       "      <th>Condition</th>\n",
       "    </tr>\n",
       "  </thead>\n",
       "  <tbody>\n",
       "    <tr>\n",
       "      <th>0</th>\n",
       "      <td>2010</td>\n",
       "      <td>Nationwide (States, DC, and Territories)</td>\n",
       "      <td>85%</td>\n",
       "      <td>15%</td>\n",
       "      <td>Health Care Access/Coverage</td>\n",
       "      <td>Do you have any kind of health care coverage?</td>\n",
       "    </tr>\n",
       "    <tr>\n",
       "      <th>1</th>\n",
       "      <td>2010</td>\n",
       "      <td>Nationwide (States and DC)</td>\n",
       "      <td>85%</td>\n",
       "      <td>15%</td>\n",
       "      <td>Health Care Access/Coverage</td>\n",
       "      <td>Do you have any kind of health care coverage?</td>\n",
       "    </tr>\n",
       "    <tr>\n",
       "      <th>2</th>\n",
       "      <td>2010</td>\n",
       "      <td>Guam</td>\n",
       "      <td>77.80%</td>\n",
       "      <td>22.20%</td>\n",
       "      <td>Health Care Access/Coverage</td>\n",
       "      <td>Do you have any kind of health care coverage?</td>\n",
       "    </tr>\n",
       "    <tr>\n",
       "      <th>3</th>\n",
       "      <td>2010</td>\n",
       "      <td>Puerto Rico</td>\n",
       "      <td>92.10%</td>\n",
       "      <td>7.90%</td>\n",
       "      <td>Health Care Access/Coverage</td>\n",
       "      <td>Do you have any kind of health care coverage?</td>\n",
       "    </tr>\n",
       "    <tr>\n",
       "      <th>4</th>\n",
       "      <td>2010</td>\n",
       "      <td>Virgin Islands</td>\n",
       "      <td>69.40%</td>\n",
       "      <td>30.60%</td>\n",
       "      <td>Health Care Access/Coverage</td>\n",
       "      <td>Do you have any kind of health care coverage?</td>\n",
       "    </tr>\n",
       "    <tr>\n",
       "      <th>...</th>\n",
       "      <td>...</td>\n",
       "      <td>...</td>\n",
       "      <td>...</td>\n",
       "      <td>...</td>\n",
       "      <td>...</td>\n",
       "      <td>...</td>\n",
       "    </tr>\n",
       "    <tr>\n",
       "      <th>1635</th>\n",
       "      <td>2010</td>\n",
       "      <td>Alabama</td>\n",
       "      <td>79.90%</td>\n",
       "      <td>20.10%</td>\n",
       "      <td>Health Care Access/Coverage</td>\n",
       "      <td>Adults aged 18-64 who have any kind of health ...</td>\n",
       "    </tr>\n",
       "    <tr>\n",
       "      <th>1636</th>\n",
       "      <td>1996</td>\n",
       "      <td>Mississippi</td>\n",
       "      <td>82.70%</td>\n",
       "      <td>17.30%</td>\n",
       "      <td>Health Care Access/Coverage</td>\n",
       "      <td>Adults aged 18-64 who have any kind of health ...</td>\n",
       "    </tr>\n",
       "    <tr>\n",
       "      <th>1637</th>\n",
       "      <td>1996</td>\n",
       "      <td>Virginia</td>\n",
       "      <td>85.40%</td>\n",
       "      <td>14.60%</td>\n",
       "      <td>Health Care Access/Coverage</td>\n",
       "      <td>Do you have any kind of health care coverage?</td>\n",
       "    </tr>\n",
       "    <tr>\n",
       "      <th>1638</th>\n",
       "      <td>2006</td>\n",
       "      <td>Wyoming</td>\n",
       "      <td>82.10%</td>\n",
       "      <td>17.90%</td>\n",
       "      <td>Health Care Access/Coverage</td>\n",
       "      <td>Do you have any kind of health care coverage?</td>\n",
       "    </tr>\n",
       "    <tr>\n",
       "      <th>1639</th>\n",
       "      <td>1996</td>\n",
       "      <td>Tennessee</td>\n",
       "      <td>86.10%</td>\n",
       "      <td>13.90%</td>\n",
       "      <td>Health Care Access/Coverage</td>\n",
       "      <td>Adults aged 18-64 who have any kind of health ...</td>\n",
       "    </tr>\n",
       "  </tbody>\n",
       "</table>\n",
       "<p>1640 rows × 6 columns</p>\n",
       "</div>"
      ],
      "text/plain": [
       "      Year                                     State     Yes      No  \\\n",
       "0     2010  Nationwide (States, DC, and Territories)     85%     15%   \n",
       "1     2010                Nationwide (States and DC)     85%     15%   \n",
       "2     2010                                      Guam  77.80%  22.20%   \n",
       "3     2010                               Puerto Rico  92.10%   7.90%   \n",
       "4     2010                            Virgin Islands  69.40%  30.60%   \n",
       "...    ...                                       ...     ...     ...   \n",
       "1635  2010                                   Alabama  79.90%  20.10%   \n",
       "1636  1996                               Mississippi  82.70%  17.30%   \n",
       "1637  1996                                  Virginia  85.40%  14.60%   \n",
       "1638  2006                                   Wyoming  82.10%  17.90%   \n",
       "1639  1996                                 Tennessee  86.10%  13.90%   \n",
       "\n",
       "                         Category  \\\n",
       "0     Health Care Access/Coverage   \n",
       "1     Health Care Access/Coverage   \n",
       "2     Health Care Access/Coverage   \n",
       "3     Health Care Access/Coverage   \n",
       "4     Health Care Access/Coverage   \n",
       "...                           ...   \n",
       "1635  Health Care Access/Coverage   \n",
       "1636  Health Care Access/Coverage   \n",
       "1637  Health Care Access/Coverage   \n",
       "1638  Health Care Access/Coverage   \n",
       "1639  Health Care Access/Coverage   \n",
       "\n",
       "                                              Condition  \n",
       "0         Do you have any kind of health care coverage?  \n",
       "1         Do you have any kind of health care coverage?  \n",
       "2         Do you have any kind of health care coverage?  \n",
       "3         Do you have any kind of health care coverage?  \n",
       "4         Do you have any kind of health care coverage?  \n",
       "...                                                 ...  \n",
       "1635  Adults aged 18-64 who have any kind of health ...  \n",
       "1636  Adults aged 18-64 who have any kind of health ...  \n",
       "1637      Do you have any kind of health care coverage?  \n",
       "1638      Do you have any kind of health care coverage?  \n",
       "1639  Adults aged 18-64 who have any kind of health ...  \n",
       "\n",
       "[1640 rows x 6 columns]"
      ]
     },
     "execution_count": 20,
     "metadata": {},
     "output_type": "execute_result"
    }
   ],
   "source": [
    "access_df.drop(columns=['Location 1'],inplace=True)\n",
    "access_df"
   ]
  },
  {
   "cell_type": "code",
   "execution_count": 21,
   "metadata": {},
   "outputs": [
    {
     "data": {
      "text/html": [
       "<div>\n",
       "<style scoped>\n",
       "    .dataframe tbody tr th:only-of-type {\n",
       "        vertical-align: middle;\n",
       "    }\n",
       "\n",
       "    .dataframe tbody tr th {\n",
       "        vertical-align: top;\n",
       "    }\n",
       "\n",
       "    .dataframe thead th {\n",
       "        text-align: right;\n",
       "    }\n",
       "</style>\n",
       "<table border=\"1\" class=\"dataframe\">\n",
       "  <thead>\n",
       "    <tr style=\"text-align: right;\">\n",
       "      <th></th>\n",
       "      <th>Year</th>\n",
       "      <th>State</th>\n",
       "      <th>Yes</th>\n",
       "      <th>No</th>\n",
       "      <th>Category</th>\n",
       "    </tr>\n",
       "  </thead>\n",
       "  <tbody>\n",
       "    <tr>\n",
       "      <th>0</th>\n",
       "      <td>2010</td>\n",
       "      <td>Nationwide (States, DC, and Territories)</td>\n",
       "      <td>85%</td>\n",
       "      <td>15%</td>\n",
       "      <td>Health Care Access/Coverage</td>\n",
       "    </tr>\n",
       "    <tr>\n",
       "      <th>1</th>\n",
       "      <td>2010</td>\n",
       "      <td>Nationwide (States and DC)</td>\n",
       "      <td>85%</td>\n",
       "      <td>15%</td>\n",
       "      <td>Health Care Access/Coverage</td>\n",
       "    </tr>\n",
       "    <tr>\n",
       "      <th>2</th>\n",
       "      <td>2010</td>\n",
       "      <td>Guam</td>\n",
       "      <td>77.80%</td>\n",
       "      <td>22.20%</td>\n",
       "      <td>Health Care Access/Coverage</td>\n",
       "    </tr>\n",
       "    <tr>\n",
       "      <th>3</th>\n",
       "      <td>2010</td>\n",
       "      <td>Puerto Rico</td>\n",
       "      <td>92.10%</td>\n",
       "      <td>7.90%</td>\n",
       "      <td>Health Care Access/Coverage</td>\n",
       "    </tr>\n",
       "    <tr>\n",
       "      <th>4</th>\n",
       "      <td>2010</td>\n",
       "      <td>Virgin Islands</td>\n",
       "      <td>69.40%</td>\n",
       "      <td>30.60%</td>\n",
       "      <td>Health Care Access/Coverage</td>\n",
       "    </tr>\n",
       "    <tr>\n",
       "      <th>...</th>\n",
       "      <td>...</td>\n",
       "      <td>...</td>\n",
       "      <td>...</td>\n",
       "      <td>...</td>\n",
       "      <td>...</td>\n",
       "    </tr>\n",
       "    <tr>\n",
       "      <th>1635</th>\n",
       "      <td>2010</td>\n",
       "      <td>Alabama</td>\n",
       "      <td>79.90%</td>\n",
       "      <td>20.10%</td>\n",
       "      <td>Health Care Access/Coverage</td>\n",
       "    </tr>\n",
       "    <tr>\n",
       "      <th>1636</th>\n",
       "      <td>1996</td>\n",
       "      <td>Mississippi</td>\n",
       "      <td>82.70%</td>\n",
       "      <td>17.30%</td>\n",
       "      <td>Health Care Access/Coverage</td>\n",
       "    </tr>\n",
       "    <tr>\n",
       "      <th>1637</th>\n",
       "      <td>1996</td>\n",
       "      <td>Virginia</td>\n",
       "      <td>85.40%</td>\n",
       "      <td>14.60%</td>\n",
       "      <td>Health Care Access/Coverage</td>\n",
       "    </tr>\n",
       "    <tr>\n",
       "      <th>1638</th>\n",
       "      <td>2006</td>\n",
       "      <td>Wyoming</td>\n",
       "      <td>82.10%</td>\n",
       "      <td>17.90%</td>\n",
       "      <td>Health Care Access/Coverage</td>\n",
       "    </tr>\n",
       "    <tr>\n",
       "      <th>1639</th>\n",
       "      <td>1996</td>\n",
       "      <td>Tennessee</td>\n",
       "      <td>86.10%</td>\n",
       "      <td>13.90%</td>\n",
       "      <td>Health Care Access/Coverage</td>\n",
       "    </tr>\n",
       "  </tbody>\n",
       "</table>\n",
       "<p>1640 rows × 5 columns</p>\n",
       "</div>"
      ],
      "text/plain": [
       "      Year                                     State     Yes      No  \\\n",
       "0     2010  Nationwide (States, DC, and Territories)     85%     15%   \n",
       "1     2010                Nationwide (States and DC)     85%     15%   \n",
       "2     2010                                      Guam  77.80%  22.20%   \n",
       "3     2010                               Puerto Rico  92.10%   7.90%   \n",
       "4     2010                            Virgin Islands  69.40%  30.60%   \n",
       "...    ...                                       ...     ...     ...   \n",
       "1635  2010                                   Alabama  79.90%  20.10%   \n",
       "1636  1996                               Mississippi  82.70%  17.30%   \n",
       "1637  1996                                  Virginia  85.40%  14.60%   \n",
       "1638  2006                                   Wyoming  82.10%  17.90%   \n",
       "1639  1996                                 Tennessee  86.10%  13.90%   \n",
       "\n",
       "                         Category  \n",
       "0     Health Care Access/Coverage  \n",
       "1     Health Care Access/Coverage  \n",
       "2     Health Care Access/Coverage  \n",
       "3     Health Care Access/Coverage  \n",
       "4     Health Care Access/Coverage  \n",
       "...                           ...  \n",
       "1635  Health Care Access/Coverage  \n",
       "1636  Health Care Access/Coverage  \n",
       "1637  Health Care Access/Coverage  \n",
       "1638  Health Care Access/Coverage  \n",
       "1639  Health Care Access/Coverage  \n",
       "\n",
       "[1640 rows x 5 columns]"
      ]
     },
     "execution_count": 21,
     "metadata": {},
     "output_type": "execute_result"
    }
   ],
   "source": [
    "access_df.drop(columns=['Condition'],inplace=True)\n",
    "access_df"
   ]
  },
  {
   "cell_type": "code",
   "execution_count": 53,
   "metadata": {},
   "outputs": [
    {
     "data": {
      "text/html": [
       "<div>\n",
       "<style scoped>\n",
       "    .dataframe tbody tr th:only-of-type {\n",
       "        vertical-align: middle;\n",
       "    }\n",
       "\n",
       "    .dataframe tbody tr th {\n",
       "        vertical-align: top;\n",
       "    }\n",
       "\n",
       "    .dataframe thead th {\n",
       "        text-align: right;\n",
       "    }\n",
       "</style>\n",
       "<table border=\"1\" class=\"dataframe\">\n",
       "  <thead>\n",
       "    <tr style=\"text-align: right;\">\n",
       "      <th></th>\n",
       "      <th>year</th>\n",
       "      <th>state</th>\n",
       "      <th>yes</th>\n",
       "      <th>no</th>\n",
       "    </tr>\n",
       "  </thead>\n",
       "  <tbody>\n",
       "    <tr>\n",
       "      <th>0</th>\n",
       "      <td>2010</td>\n",
       "      <td>Nationwide (States, DC, and Territories)</td>\n",
       "      <td>85%</td>\n",
       "      <td>15%</td>\n",
       "    </tr>\n",
       "    <tr>\n",
       "      <th>1</th>\n",
       "      <td>2010</td>\n",
       "      <td>Nationwide (States and DC)</td>\n",
       "      <td>85%</td>\n",
       "      <td>15%</td>\n",
       "    </tr>\n",
       "    <tr>\n",
       "      <th>2</th>\n",
       "      <td>2010</td>\n",
       "      <td>Guam</td>\n",
       "      <td>77.80%</td>\n",
       "      <td>22.20%</td>\n",
       "    </tr>\n",
       "    <tr>\n",
       "      <th>3</th>\n",
       "      <td>2010</td>\n",
       "      <td>Puerto Rico</td>\n",
       "      <td>92.10%</td>\n",
       "      <td>7.90%</td>\n",
       "    </tr>\n",
       "    <tr>\n",
       "      <th>4</th>\n",
       "      <td>2010</td>\n",
       "      <td>Virgin Islands</td>\n",
       "      <td>69.40%</td>\n",
       "      <td>30.60%</td>\n",
       "    </tr>\n",
       "    <tr>\n",
       "      <th>...</th>\n",
       "      <td>...</td>\n",
       "      <td>...</td>\n",
       "      <td>...</td>\n",
       "      <td>...</td>\n",
       "    </tr>\n",
       "    <tr>\n",
       "      <th>1635</th>\n",
       "      <td>2010</td>\n",
       "      <td>Alabama</td>\n",
       "      <td>79.90%</td>\n",
       "      <td>20.10%</td>\n",
       "    </tr>\n",
       "    <tr>\n",
       "      <th>1636</th>\n",
       "      <td>1996</td>\n",
       "      <td>Mississippi</td>\n",
       "      <td>82.70%</td>\n",
       "      <td>17.30%</td>\n",
       "    </tr>\n",
       "    <tr>\n",
       "      <th>1637</th>\n",
       "      <td>1996</td>\n",
       "      <td>Virginia</td>\n",
       "      <td>85.40%</td>\n",
       "      <td>14.60%</td>\n",
       "    </tr>\n",
       "    <tr>\n",
       "      <th>1638</th>\n",
       "      <td>2006</td>\n",
       "      <td>Wyoming</td>\n",
       "      <td>82.10%</td>\n",
       "      <td>17.90%</td>\n",
       "    </tr>\n",
       "    <tr>\n",
       "      <th>1639</th>\n",
       "      <td>1996</td>\n",
       "      <td>Tennessee</td>\n",
       "      <td>86.10%</td>\n",
       "      <td>13.90%</td>\n",
       "    </tr>\n",
       "  </tbody>\n",
       "</table>\n",
       "<p>1640 rows × 4 columns</p>\n",
       "</div>"
      ],
      "text/plain": [
       "      year                                     state     yes      no\n",
       "0     2010  Nationwide (States, DC, and Territories)     85%     15%\n",
       "1     2010                Nationwide (States and DC)     85%     15%\n",
       "2     2010                                      Guam  77.80%  22.20%\n",
       "3     2010                               Puerto Rico  92.10%   7.90%\n",
       "4     2010                            Virgin Islands  69.40%  30.60%\n",
       "...    ...                                       ...     ...     ...\n",
       "1635  2010                                   Alabama  79.90%  20.10%\n",
       "1636  1996                               Mississippi  82.70%  17.30%\n",
       "1637  1996                                  Virginia  85.40%  14.60%\n",
       "1638  2006                                   Wyoming  82.10%  17.90%\n",
       "1639  1996                                 Tennessee  86.10%  13.90%\n",
       "\n",
       "[1640 rows x 4 columns]"
      ]
     },
     "execution_count": 53,
     "metadata": {},
     "output_type": "execute_result"
    }
   ],
   "source": [
    "access_df.drop(columns=['category'],inplace=True)\n",
    "access_df"
   ]
  },
  {
   "cell_type": "code",
   "execution_count": 22,
   "metadata": {},
   "outputs": [
    {
     "data": {
      "text/html": [
       "<div>\n",
       "<style scoped>\n",
       "    .dataframe tbody tr th:only-of-type {\n",
       "        vertical-align: middle;\n",
       "    }\n",
       "\n",
       "    .dataframe tbody tr th {\n",
       "        vertical-align: top;\n",
       "    }\n",
       "\n",
       "    .dataframe thead th {\n",
       "        text-align: right;\n",
       "    }\n",
       "</style>\n",
       "<table border=\"1\" class=\"dataframe\">\n",
       "  <thead>\n",
       "    <tr style=\"text-align: right;\">\n",
       "      <th></th>\n",
       "      <th>Year</th>\n",
       "    </tr>\n",
       "  </thead>\n",
       "  <tbody>\n",
       "    <tr>\n",
       "      <th>count</th>\n",
       "      <td>1640.000000</td>\n",
       "    </tr>\n",
       "    <tr>\n",
       "      <th>mean</th>\n",
       "      <td>2002.665854</td>\n",
       "    </tr>\n",
       "    <tr>\n",
       "      <th>std</th>\n",
       "      <td>4.735653</td>\n",
       "    </tr>\n",
       "    <tr>\n",
       "      <th>min</th>\n",
       "      <td>1995.000000</td>\n",
       "    </tr>\n",
       "    <tr>\n",
       "      <th>25%</th>\n",
       "      <td>1998.000000</td>\n",
       "    </tr>\n",
       "    <tr>\n",
       "      <th>50%</th>\n",
       "      <td>2003.000000</td>\n",
       "    </tr>\n",
       "    <tr>\n",
       "      <th>75%</th>\n",
       "      <td>2007.000000</td>\n",
       "    </tr>\n",
       "    <tr>\n",
       "      <th>max</th>\n",
       "      <td>2010.000000</td>\n",
       "    </tr>\n",
       "  </tbody>\n",
       "</table>\n",
       "</div>"
      ],
      "text/plain": [
       "              Year\n",
       "count  1640.000000\n",
       "mean   2002.665854\n",
       "std       4.735653\n",
       "min    1995.000000\n",
       "25%    1998.000000\n",
       "50%    2003.000000\n",
       "75%    2007.000000\n",
       "max    2010.000000"
      ]
     },
     "execution_count": 22,
     "metadata": {},
     "output_type": "execute_result"
    }
   ],
   "source": [
    "access_df.describe()"
   ]
  },
  {
   "cell_type": "code",
   "execution_count": 23,
   "metadata": {},
   "outputs": [
    {
     "data": {
      "text/html": [
       "<div>\n",
       "<style scoped>\n",
       "    .dataframe tbody tr th:only-of-type {\n",
       "        vertical-align: middle;\n",
       "    }\n",
       "\n",
       "    .dataframe tbody tr th {\n",
       "        vertical-align: top;\n",
       "    }\n",
       "\n",
       "    .dataframe thead th {\n",
       "        text-align: right;\n",
       "    }\n",
       "</style>\n",
       "<table border=\"1\" class=\"dataframe\">\n",
       "  <thead>\n",
       "    <tr style=\"text-align: right;\">\n",
       "      <th></th>\n",
       "      <th>age</th>\n",
       "      <th>weight</th>\n",
       "      <th>bmi</th>\n",
       "      <th>no_of_dependents</th>\n",
       "      <th>smoker</th>\n",
       "      <th>bloodpressure</th>\n",
       "      <th>diabetes</th>\n",
       "      <th>regular_ex</th>\n",
       "      <th>claim</th>\n",
       "    </tr>\n",
       "  </thead>\n",
       "  <tbody>\n",
       "    <tr>\n",
       "      <th>count</th>\n",
       "      <td>14604.000000</td>\n",
       "      <td>15000.000000</td>\n",
       "      <td>14044.000000</td>\n",
       "      <td>15000.000000</td>\n",
       "      <td>15000.000000</td>\n",
       "      <td>15000.000000</td>\n",
       "      <td>15000.000000</td>\n",
       "      <td>15000.000000</td>\n",
       "      <td>15000.000000</td>\n",
       "    </tr>\n",
       "    <tr>\n",
       "      <th>mean</th>\n",
       "      <td>39.547521</td>\n",
       "      <td>64.909600</td>\n",
       "      <td>30.266413</td>\n",
       "      <td>1.129733</td>\n",
       "      <td>0.198133</td>\n",
       "      <td>68.650133</td>\n",
       "      <td>0.777000</td>\n",
       "      <td>0.224133</td>\n",
       "      <td>13401.437620</td>\n",
       "    </tr>\n",
       "    <tr>\n",
       "      <th>std</th>\n",
       "      <td>14.015966</td>\n",
       "      <td>13.701935</td>\n",
       "      <td>6.122950</td>\n",
       "      <td>1.228469</td>\n",
       "      <td>0.398606</td>\n",
       "      <td>19.418515</td>\n",
       "      <td>0.416272</td>\n",
       "      <td>0.417024</td>\n",
       "      <td>12148.239619</td>\n",
       "    </tr>\n",
       "    <tr>\n",
       "      <th>min</th>\n",
       "      <td>18.000000</td>\n",
       "      <td>34.000000</td>\n",
       "      <td>16.000000</td>\n",
       "      <td>0.000000</td>\n",
       "      <td>0.000000</td>\n",
       "      <td>0.000000</td>\n",
       "      <td>0.000000</td>\n",
       "      <td>0.000000</td>\n",
       "      <td>1121.900000</td>\n",
       "    </tr>\n",
       "    <tr>\n",
       "      <th>25%</th>\n",
       "      <td>27.000000</td>\n",
       "      <td>54.000000</td>\n",
       "      <td>25.700000</td>\n",
       "      <td>0.000000</td>\n",
       "      <td>0.000000</td>\n",
       "      <td>64.000000</td>\n",
       "      <td>1.000000</td>\n",
       "      <td>0.000000</td>\n",
       "      <td>4846.900000</td>\n",
       "    </tr>\n",
       "    <tr>\n",
       "      <th>50%</th>\n",
       "      <td>40.000000</td>\n",
       "      <td>63.000000</td>\n",
       "      <td>29.400000</td>\n",
       "      <td>1.000000</td>\n",
       "      <td>0.000000</td>\n",
       "      <td>71.000000</td>\n",
       "      <td>1.000000</td>\n",
       "      <td>0.000000</td>\n",
       "      <td>9545.650000</td>\n",
       "    </tr>\n",
       "    <tr>\n",
       "      <th>75%</th>\n",
       "      <td>52.000000</td>\n",
       "      <td>76.000000</td>\n",
       "      <td>34.400000</td>\n",
       "      <td>2.000000</td>\n",
       "      <td>0.000000</td>\n",
       "      <td>80.000000</td>\n",
       "      <td>1.000000</td>\n",
       "      <td>0.000000</td>\n",
       "      <td>16519.125000</td>\n",
       "    </tr>\n",
       "    <tr>\n",
       "      <th>max</th>\n",
       "      <td>64.000000</td>\n",
       "      <td>95.000000</td>\n",
       "      <td>53.100000</td>\n",
       "      <td>5.000000</td>\n",
       "      <td>1.000000</td>\n",
       "      <td>122.000000</td>\n",
       "      <td>1.000000</td>\n",
       "      <td>1.000000</td>\n",
       "      <td>63770.400000</td>\n",
       "    </tr>\n",
       "  </tbody>\n",
       "</table>\n",
       "</div>"
      ],
      "text/plain": [
       "                age        weight           bmi  no_of_dependents  \\\n",
       "count  14604.000000  15000.000000  14044.000000      15000.000000   \n",
       "mean      39.547521     64.909600     30.266413          1.129733   \n",
       "std       14.015966     13.701935      6.122950          1.228469   \n",
       "min       18.000000     34.000000     16.000000          0.000000   \n",
       "25%       27.000000     54.000000     25.700000          0.000000   \n",
       "50%       40.000000     63.000000     29.400000          1.000000   \n",
       "75%       52.000000     76.000000     34.400000          2.000000   \n",
       "max       64.000000     95.000000     53.100000          5.000000   \n",
       "\n",
       "             smoker  bloodpressure      diabetes    regular_ex         claim  \n",
       "count  15000.000000   15000.000000  15000.000000  15000.000000  15000.000000  \n",
       "mean       0.198133      68.650133      0.777000      0.224133  13401.437620  \n",
       "std        0.398606      19.418515      0.416272      0.417024  12148.239619  \n",
       "min        0.000000       0.000000      0.000000      0.000000   1121.900000  \n",
       "25%        0.000000      64.000000      1.000000      0.000000   4846.900000  \n",
       "50%        0.000000      71.000000      1.000000      0.000000   9545.650000  \n",
       "75%        0.000000      80.000000      1.000000      0.000000  16519.125000  \n",
       "max        1.000000     122.000000      1.000000      1.000000  63770.400000  "
      ]
     },
     "execution_count": 23,
     "metadata": {},
     "output_type": "execute_result"
    }
   ],
   "source": [
    "insurance_df.describe()"
   ]
  },
  {
   "cell_type": "code",
   "execution_count": 24,
   "metadata": {},
   "outputs": [
    {
     "data": {
      "text/html": [
       "<div>\n",
       "<style scoped>\n",
       "    .dataframe tbody tr th:only-of-type {\n",
       "        vertical-align: middle;\n",
       "    }\n",
       "\n",
       "    .dataframe tbody tr th {\n",
       "        vertical-align: top;\n",
       "    }\n",
       "\n",
       "    .dataframe thead th {\n",
       "        text-align: right;\n",
       "    }\n",
       "</style>\n",
       "<table border=\"1\" class=\"dataframe\">\n",
       "  <thead>\n",
       "    <tr style=\"text-align: right;\">\n",
       "      <th></th>\n",
       "      <th>age</th>\n",
       "      <th>sex</th>\n",
       "      <th>weight</th>\n",
       "      <th>bmi</th>\n",
       "      <th>hereditary_diseases</th>\n",
       "      <th>no_of_dependents</th>\n",
       "      <th>smoker</th>\n",
       "      <th>city</th>\n",
       "      <th>bloodpressure</th>\n",
       "      <th>diabetes</th>\n",
       "      <th>regular_ex</th>\n",
       "      <th>job_title</th>\n",
       "      <th>claim</th>\n",
       "    </tr>\n",
       "  </thead>\n",
       "  <tbody>\n",
       "    <tr>\n",
       "      <th>0</th>\n",
       "      <td>60.0</td>\n",
       "      <td>male</td>\n",
       "      <td>64</td>\n",
       "      <td>24.3</td>\n",
       "      <td>NoDisease</td>\n",
       "      <td>1</td>\n",
       "      <td>0</td>\n",
       "      <td>NewYork</td>\n",
       "      <td>72</td>\n",
       "      <td>0</td>\n",
       "      <td>0</td>\n",
       "      <td>Actor</td>\n",
       "      <td>13112.6</td>\n",
       "    </tr>\n",
       "    <tr>\n",
       "      <th>1</th>\n",
       "      <td>49.0</td>\n",
       "      <td>female</td>\n",
       "      <td>75</td>\n",
       "      <td>22.6</td>\n",
       "      <td>NoDisease</td>\n",
       "      <td>1</td>\n",
       "      <td>0</td>\n",
       "      <td>Boston</td>\n",
       "      <td>78</td>\n",
       "      <td>1</td>\n",
       "      <td>1</td>\n",
       "      <td>Engineer</td>\n",
       "      <td>9567.0</td>\n",
       "    </tr>\n",
       "    <tr>\n",
       "      <th>2</th>\n",
       "      <td>32.0</td>\n",
       "      <td>female</td>\n",
       "      <td>64</td>\n",
       "      <td>17.8</td>\n",
       "      <td>Epilepsy</td>\n",
       "      <td>2</td>\n",
       "      <td>1</td>\n",
       "      <td>Phildelphia</td>\n",
       "      <td>88</td>\n",
       "      <td>1</td>\n",
       "      <td>1</td>\n",
       "      <td>Academician</td>\n",
       "      <td>32734.2</td>\n",
       "    </tr>\n",
       "    <tr>\n",
       "      <th>3</th>\n",
       "      <td>61.0</td>\n",
       "      <td>female</td>\n",
       "      <td>53</td>\n",
       "      <td>36.4</td>\n",
       "      <td>NoDisease</td>\n",
       "      <td>1</td>\n",
       "      <td>1</td>\n",
       "      <td>Pittsburg</td>\n",
       "      <td>72</td>\n",
       "      <td>1</td>\n",
       "      <td>0</td>\n",
       "      <td>Chef</td>\n",
       "      <td>48517.6</td>\n",
       "    </tr>\n",
       "    <tr>\n",
       "      <th>4</th>\n",
       "      <td>19.0</td>\n",
       "      <td>female</td>\n",
       "      <td>50</td>\n",
       "      <td>20.6</td>\n",
       "      <td>NoDisease</td>\n",
       "      <td>0</td>\n",
       "      <td>0</td>\n",
       "      <td>Buffalo</td>\n",
       "      <td>82</td>\n",
       "      <td>1</td>\n",
       "      <td>0</td>\n",
       "      <td>HomeMakers</td>\n",
       "      <td>1731.7</td>\n",
       "    </tr>\n",
       "  </tbody>\n",
       "</table>\n",
       "</div>"
      ],
      "text/plain": [
       "    age     sex  weight   bmi hereditary_diseases  no_of_dependents  smoker  \\\n",
       "0  60.0    male      64  24.3           NoDisease                 1       0   \n",
       "1  49.0  female      75  22.6           NoDisease                 1       0   \n",
       "2  32.0  female      64  17.8            Epilepsy                 2       1   \n",
       "3  61.0  female      53  36.4           NoDisease                 1       1   \n",
       "4  19.0  female      50  20.6           NoDisease                 0       0   \n",
       "\n",
       "          city  bloodpressure  diabetes  regular_ex    job_title    claim  \n",
       "0      NewYork             72         0           0        Actor  13112.6  \n",
       "1       Boston             78         1           1     Engineer   9567.0  \n",
       "2  Phildelphia             88         1           1  Academician  32734.2  \n",
       "3    Pittsburg             72         1           0         Chef  48517.6  \n",
       "4      Buffalo             82         1           0   HomeMakers   1731.7  "
      ]
     },
     "execution_count": 24,
     "metadata": {},
     "output_type": "execute_result"
    }
   ],
   "source": [
    "insurance_df.columns = insurance_df.columns.str.lower()\n",
    "\n",
    "insurance_df.head()"
   ]
  },
  {
   "cell_type": "code",
   "execution_count": 25,
   "metadata": {},
   "outputs": [
    {
     "data": {
      "text/html": [
       "<div>\n",
       "<style scoped>\n",
       "    .dataframe tbody tr th:only-of-type {\n",
       "        vertical-align: middle;\n",
       "    }\n",
       "\n",
       "    .dataframe tbody tr th {\n",
       "        vertical-align: top;\n",
       "    }\n",
       "\n",
       "    .dataframe thead th {\n",
       "        text-align: right;\n",
       "    }\n",
       "</style>\n",
       "<table border=\"1\" class=\"dataframe\">\n",
       "  <thead>\n",
       "    <tr style=\"text-align: right;\">\n",
       "      <th></th>\n",
       "      <th>year</th>\n",
       "      <th>state</th>\n",
       "      <th>yes</th>\n",
       "      <th>no</th>\n",
       "      <th>category</th>\n",
       "    </tr>\n",
       "  </thead>\n",
       "  <tbody>\n",
       "    <tr>\n",
       "      <th>0</th>\n",
       "      <td>2010</td>\n",
       "      <td>Nationwide (States, DC, and Territories)</td>\n",
       "      <td>85%</td>\n",
       "      <td>15%</td>\n",
       "      <td>Health Care Access/Coverage</td>\n",
       "    </tr>\n",
       "    <tr>\n",
       "      <th>1</th>\n",
       "      <td>2010</td>\n",
       "      <td>Nationwide (States and DC)</td>\n",
       "      <td>85%</td>\n",
       "      <td>15%</td>\n",
       "      <td>Health Care Access/Coverage</td>\n",
       "    </tr>\n",
       "    <tr>\n",
       "      <th>2</th>\n",
       "      <td>2010</td>\n",
       "      <td>Guam</td>\n",
       "      <td>77.80%</td>\n",
       "      <td>22.20%</td>\n",
       "      <td>Health Care Access/Coverage</td>\n",
       "    </tr>\n",
       "    <tr>\n",
       "      <th>3</th>\n",
       "      <td>2010</td>\n",
       "      <td>Puerto Rico</td>\n",
       "      <td>92.10%</td>\n",
       "      <td>7.90%</td>\n",
       "      <td>Health Care Access/Coverage</td>\n",
       "    </tr>\n",
       "    <tr>\n",
       "      <th>4</th>\n",
       "      <td>2010</td>\n",
       "      <td>Virgin Islands</td>\n",
       "      <td>69.40%</td>\n",
       "      <td>30.60%</td>\n",
       "      <td>Health Care Access/Coverage</td>\n",
       "    </tr>\n",
       "  </tbody>\n",
       "</table>\n",
       "</div>"
      ],
      "text/plain": [
       "   year                                     state     yes      no  \\\n",
       "0  2010  Nationwide (States, DC, and Territories)     85%     15%   \n",
       "1  2010                Nationwide (States and DC)     85%     15%   \n",
       "2  2010                                      Guam  77.80%  22.20%   \n",
       "3  2010                               Puerto Rico  92.10%   7.90%   \n",
       "4  2010                            Virgin Islands  69.40%  30.60%   \n",
       "\n",
       "                      category  \n",
       "0  Health Care Access/Coverage  \n",
       "1  Health Care Access/Coverage  \n",
       "2  Health Care Access/Coverage  \n",
       "3  Health Care Access/Coverage  \n",
       "4  Health Care Access/Coverage  "
      ]
     },
     "execution_count": 25,
     "metadata": {},
     "output_type": "execute_result"
    }
   ],
   "source": [
    "access_df.columns = access_df.columns.str.lower()\n",
    "access_df.head()"
   ]
  },
  {
   "cell_type": "code",
   "execution_count": 55,
   "metadata": {},
   "outputs": [
    {
     "data": {
      "text/html": [
       "<div>\n",
       "<style scoped>\n",
       "    .dataframe tbody tr th:only-of-type {\n",
       "        vertical-align: middle;\n",
       "    }\n",
       "\n",
       "    .dataframe tbody tr th {\n",
       "        vertical-align: top;\n",
       "    }\n",
       "\n",
       "    .dataframe thead th {\n",
       "        text-align: right;\n",
       "    }\n",
       "</style>\n",
       "<table border=\"1\" class=\"dataframe\">\n",
       "  <thead>\n",
       "    <tr style=\"text-align: right;\">\n",
       "      <th></th>\n",
       "      <th>age</th>\n",
       "      <th>sex</th>\n",
       "      <th>weight</th>\n",
       "      <th>bmi</th>\n",
       "      <th>hereditary_diseases</th>\n",
       "      <th>no_of_dependents</th>\n",
       "      <th>smoker</th>\n",
       "      <th>city</th>\n",
       "      <th>diabetes</th>\n",
       "      <th>regular_ex</th>\n",
       "      <th>job_title</th>\n",
       "      <th>claim</th>\n",
       "    </tr>\n",
       "  </thead>\n",
       "  <tbody>\n",
       "    <tr>\n",
       "      <th>0</th>\n",
       "      <td>60.0</td>\n",
       "      <td>0</td>\n",
       "      <td>64</td>\n",
       "      <td>24.3</td>\n",
       "      <td>NoDisease</td>\n",
       "      <td>1</td>\n",
       "      <td>0</td>\n",
       "      <td>NewYork</td>\n",
       "      <td>0</td>\n",
       "      <td>0</td>\n",
       "      <td>Actor</td>\n",
       "      <td>13112.6</td>\n",
       "    </tr>\n",
       "    <tr>\n",
       "      <th>1</th>\n",
       "      <td>49.0</td>\n",
       "      <td>1</td>\n",
       "      <td>75</td>\n",
       "      <td>22.6</td>\n",
       "      <td>NoDisease</td>\n",
       "      <td>1</td>\n",
       "      <td>0</td>\n",
       "      <td>MA</td>\n",
       "      <td>1</td>\n",
       "      <td>1</td>\n",
       "      <td>Engineer</td>\n",
       "      <td>9567.0</td>\n",
       "    </tr>\n",
       "    <tr>\n",
       "      <th>2</th>\n",
       "      <td>32.0</td>\n",
       "      <td>1</td>\n",
       "      <td>64</td>\n",
       "      <td>17.8</td>\n",
       "      <td>Epilepsy</td>\n",
       "      <td>2</td>\n",
       "      <td>1</td>\n",
       "      <td>Phildelphia</td>\n",
       "      <td>1</td>\n",
       "      <td>1</td>\n",
       "      <td>Academician</td>\n",
       "      <td>32734.2</td>\n",
       "    </tr>\n",
       "    <tr>\n",
       "      <th>3</th>\n",
       "      <td>61.0</td>\n",
       "      <td>1</td>\n",
       "      <td>53</td>\n",
       "      <td>36.4</td>\n",
       "      <td>NoDisease</td>\n",
       "      <td>1</td>\n",
       "      <td>1</td>\n",
       "      <td>Pittsburg</td>\n",
       "      <td>1</td>\n",
       "      <td>0</td>\n",
       "      <td>Chef</td>\n",
       "      <td>48517.6</td>\n",
       "    </tr>\n",
       "    <tr>\n",
       "      <th>4</th>\n",
       "      <td>19.0</td>\n",
       "      <td>1</td>\n",
       "      <td>50</td>\n",
       "      <td>20.6</td>\n",
       "      <td>NoDisease</td>\n",
       "      <td>0</td>\n",
       "      <td>0</td>\n",
       "      <td>Buffalo</td>\n",
       "      <td>1</td>\n",
       "      <td>0</td>\n",
       "      <td>HomeMakers</td>\n",
       "      <td>1731.7</td>\n",
       "    </tr>\n",
       "    <tr>\n",
       "      <th>...</th>\n",
       "      <td>...</td>\n",
       "      <td>...</td>\n",
       "      <td>...</td>\n",
       "      <td>...</td>\n",
       "      <td>...</td>\n",
       "      <td>...</td>\n",
       "      <td>...</td>\n",
       "      <td>...</td>\n",
       "      <td>...</td>\n",
       "      <td>...</td>\n",
       "      <td>...</td>\n",
       "      <td>...</td>\n",
       "    </tr>\n",
       "    <tr>\n",
       "      <th>14995</th>\n",
       "      <td>39.0</td>\n",
       "      <td>0</td>\n",
       "      <td>49</td>\n",
       "      <td>28.3</td>\n",
       "      <td>NoDisease</td>\n",
       "      <td>1</td>\n",
       "      <td>1</td>\n",
       "      <td>Florence</td>\n",
       "      <td>1</td>\n",
       "      <td>0</td>\n",
       "      <td>FilmMaker</td>\n",
       "      <td>21082.2</td>\n",
       "    </tr>\n",
       "    <tr>\n",
       "      <th>14996</th>\n",
       "      <td>39.0</td>\n",
       "      <td>0</td>\n",
       "      <td>74</td>\n",
       "      <td>29.6</td>\n",
       "      <td>NoDisease</td>\n",
       "      <td>4</td>\n",
       "      <td>0</td>\n",
       "      <td>Miami</td>\n",
       "      <td>1</td>\n",
       "      <td>0</td>\n",
       "      <td>Student</td>\n",
       "      <td>7512.3</td>\n",
       "    </tr>\n",
       "    <tr>\n",
       "      <th>14997</th>\n",
       "      <td>20.0</td>\n",
       "      <td>0</td>\n",
       "      <td>62</td>\n",
       "      <td>33.3</td>\n",
       "      <td>NoDisease</td>\n",
       "      <td>0</td>\n",
       "      <td>0</td>\n",
       "      <td>Tampa</td>\n",
       "      <td>1</td>\n",
       "      <td>0</td>\n",
       "      <td>FashionDesigner</td>\n",
       "      <td>1391.5</td>\n",
       "    </tr>\n",
       "    <tr>\n",
       "      <th>14998</th>\n",
       "      <td>52.0</td>\n",
       "      <td>0</td>\n",
       "      <td>88</td>\n",
       "      <td>36.7</td>\n",
       "      <td>NoDisease</td>\n",
       "      <td>0</td>\n",
       "      <td>0</td>\n",
       "      <td>PanamaCity</td>\n",
       "      <td>1</td>\n",
       "      <td>0</td>\n",
       "      <td>Farmer</td>\n",
       "      <td>9144.6</td>\n",
       "    </tr>\n",
       "    <tr>\n",
       "      <th>14999</th>\n",
       "      <td>52.0</td>\n",
       "      <td>0</td>\n",
       "      <td>57</td>\n",
       "      <td>26.4</td>\n",
       "      <td>NoDisease</td>\n",
       "      <td>3</td>\n",
       "      <td>0</td>\n",
       "      <td>Kingsport</td>\n",
       "      <td>1</td>\n",
       "      <td>0</td>\n",
       "      <td>Manager</td>\n",
       "      <td>25992.8</td>\n",
       "    </tr>\n",
       "  </tbody>\n",
       "</table>\n",
       "<p>15000 rows × 12 columns</p>\n",
       "</div>"
      ],
      "text/plain": [
       "        age  sex  weight   bmi hereditary_diseases  no_of_dependents  smoker  \\\n",
       "0      60.0    0      64  24.3           NoDisease                 1       0   \n",
       "1      49.0    1      75  22.6           NoDisease                 1       0   \n",
       "2      32.0    1      64  17.8            Epilepsy                 2       1   \n",
       "3      61.0    1      53  36.4           NoDisease                 1       1   \n",
       "4      19.0    1      50  20.6           NoDisease                 0       0   \n",
       "...     ...  ...     ...   ...                 ...               ...     ...   \n",
       "14995  39.0    0      49  28.3           NoDisease                 1       1   \n",
       "14996  39.0    0      74  29.6           NoDisease                 4       0   \n",
       "14997  20.0    0      62  33.3           NoDisease                 0       0   \n",
       "14998  52.0    0      88  36.7           NoDisease                 0       0   \n",
       "14999  52.0    0      57  26.4           NoDisease                 3       0   \n",
       "\n",
       "              city  diabetes  regular_ex        job_title    claim  \n",
       "0          NewYork         0           0            Actor  13112.6  \n",
       "1               MA         1           1         Engineer   9567.0  \n",
       "2      Phildelphia         1           1      Academician  32734.2  \n",
       "3        Pittsburg         1           0             Chef  48517.6  \n",
       "4          Buffalo         1           0       HomeMakers   1731.7  \n",
       "...            ...       ...         ...              ...      ...  \n",
       "14995     Florence         1           0        FilmMaker  21082.2  \n",
       "14996        Miami         1           0          Student   7512.3  \n",
       "14997        Tampa         1           0  FashionDesigner   1391.5  \n",
       "14998   PanamaCity         1           0           Farmer   9144.6  \n",
       "14999    Kingsport         1           0          Manager  25992.8  \n",
       "\n",
       "[15000 rows x 12 columns]"
      ]
     },
     "execution_count": 55,
     "metadata": {},
     "output_type": "execute_result"
    }
   ],
   "source": [
    "insurance_df.drop(columns=['bloodpressure'],inplace=True)\n",
    "insurance_df"
   ]
  },
  {
   "cell_type": "markdown",
   "metadata": {},
   "source": [
    "## Encoding columns"
   ]
  },
  {
   "cell_type": "code",
   "execution_count": 36,
   "metadata": {},
   "outputs": [],
   "source": [
    "insurance_df.replace({'sex':{'male':0, 'female':1}},inplace = True)"
   ]
  },
  {
   "cell_type": "code",
   "execution_count": 37,
   "metadata": {},
   "outputs": [
    {
     "data": {
      "text/html": [
       "<div>\n",
       "<style scoped>\n",
       "    .dataframe tbody tr th:only-of-type {\n",
       "        vertical-align: middle;\n",
       "    }\n",
       "\n",
       "    .dataframe tbody tr th {\n",
       "        vertical-align: top;\n",
       "    }\n",
       "\n",
       "    .dataframe thead th {\n",
       "        text-align: right;\n",
       "    }\n",
       "</style>\n",
       "<table border=\"1\" class=\"dataframe\">\n",
       "  <thead>\n",
       "    <tr style=\"text-align: right;\">\n",
       "      <th></th>\n",
       "      <th>age</th>\n",
       "      <th>sex</th>\n",
       "      <th>weight</th>\n",
       "      <th>bmi</th>\n",
       "      <th>hereditary_diseases</th>\n",
       "      <th>no_of_dependents</th>\n",
       "      <th>smoker</th>\n",
       "      <th>city</th>\n",
       "      <th>bloodpressure</th>\n",
       "      <th>diabetes</th>\n",
       "      <th>regular_ex</th>\n",
       "      <th>job_title</th>\n",
       "      <th>claim</th>\n",
       "    </tr>\n",
       "  </thead>\n",
       "  <tbody>\n",
       "    <tr>\n",
       "      <th>0</th>\n",
       "      <td>60.0</td>\n",
       "      <td>0</td>\n",
       "      <td>64</td>\n",
       "      <td>24.3</td>\n",
       "      <td>NoDisease</td>\n",
       "      <td>1</td>\n",
       "      <td>0</td>\n",
       "      <td>NewYork</td>\n",
       "      <td>72</td>\n",
       "      <td>0</td>\n",
       "      <td>0</td>\n",
       "      <td>Actor</td>\n",
       "      <td>13112.6</td>\n",
       "    </tr>\n",
       "    <tr>\n",
       "      <th>1</th>\n",
       "      <td>49.0</td>\n",
       "      <td>1</td>\n",
       "      <td>75</td>\n",
       "      <td>22.6</td>\n",
       "      <td>NoDisease</td>\n",
       "      <td>1</td>\n",
       "      <td>0</td>\n",
       "      <td>Boston</td>\n",
       "      <td>78</td>\n",
       "      <td>1</td>\n",
       "      <td>1</td>\n",
       "      <td>Engineer</td>\n",
       "      <td>9567.0</td>\n",
       "    </tr>\n",
       "    <tr>\n",
       "      <th>2</th>\n",
       "      <td>32.0</td>\n",
       "      <td>1</td>\n",
       "      <td>64</td>\n",
       "      <td>17.8</td>\n",
       "      <td>Epilepsy</td>\n",
       "      <td>2</td>\n",
       "      <td>1</td>\n",
       "      <td>Phildelphia</td>\n",
       "      <td>88</td>\n",
       "      <td>1</td>\n",
       "      <td>1</td>\n",
       "      <td>Academician</td>\n",
       "      <td>32734.2</td>\n",
       "    </tr>\n",
       "    <tr>\n",
       "      <th>3</th>\n",
       "      <td>61.0</td>\n",
       "      <td>1</td>\n",
       "      <td>53</td>\n",
       "      <td>36.4</td>\n",
       "      <td>NoDisease</td>\n",
       "      <td>1</td>\n",
       "      <td>1</td>\n",
       "      <td>Pittsburg</td>\n",
       "      <td>72</td>\n",
       "      <td>1</td>\n",
       "      <td>0</td>\n",
       "      <td>Chef</td>\n",
       "      <td>48517.6</td>\n",
       "    </tr>\n",
       "    <tr>\n",
       "      <th>4</th>\n",
       "      <td>19.0</td>\n",
       "      <td>1</td>\n",
       "      <td>50</td>\n",
       "      <td>20.6</td>\n",
       "      <td>NoDisease</td>\n",
       "      <td>0</td>\n",
       "      <td>0</td>\n",
       "      <td>Buffalo</td>\n",
       "      <td>82</td>\n",
       "      <td>1</td>\n",
       "      <td>0</td>\n",
       "      <td>HomeMakers</td>\n",
       "      <td>1731.7</td>\n",
       "    </tr>\n",
       "  </tbody>\n",
       "</table>\n",
       "</div>"
      ],
      "text/plain": [
       "    age  sex  weight   bmi hereditary_diseases  no_of_dependents  smoker  \\\n",
       "0  60.0    0      64  24.3           NoDisease                 1       0   \n",
       "1  49.0    1      75  22.6           NoDisease                 1       0   \n",
       "2  32.0    1      64  17.8            Epilepsy                 2       1   \n",
       "3  61.0    1      53  36.4           NoDisease                 1       1   \n",
       "4  19.0    1      50  20.6           NoDisease                 0       0   \n",
       "\n",
       "          city  bloodpressure  diabetes  regular_ex    job_title    claim  \n",
       "0      NewYork             72         0           0        Actor  13112.6  \n",
       "1       Boston             78         1           1     Engineer   9567.0  \n",
       "2  Phildelphia             88         1           1  Academician  32734.2  \n",
       "3    Pittsburg             72         1           0         Chef  48517.6  \n",
       "4      Buffalo             82         1           0   HomeMakers   1731.7  "
      ]
     },
     "execution_count": 37,
     "metadata": {},
     "output_type": "execute_result"
    }
   ],
   "source": [
    "insurance_df.head()"
   ]
  },
  {
   "cell_type": "code",
   "execution_count": 56,
   "metadata": {},
   "outputs": [
    {
     "name": "stderr",
     "output_type": "stream",
     "text": [
      "/Users/cuddoongaraado/opt/anaconda3/envs/data_capstone_venv/lib/python3.7/site-packages/seaborn/_decorators.py:43: FutureWarning: Pass the following variable as a keyword arg: x. From version 0.12, the only valid positional argument will be `data`, and passing other arguments without an explicit keyword will result in an error or misinterpretation.\n",
      "  FutureWarning\n"
     ]
    },
    {
     "data": {
      "image/png": "[encoded data removed]",
      "text/plain": [
       "<Figure size 800x800 with 1 Axes>"
      ]
     },
     "metadata": {},
     "output_type": "display_data"
    },
    {
     "name": "stdout",
     "output_type": "stream",
     "text": [
      "1    7652\n",
      "0    7348\n",
      "Name: sex, dtype: int64\n"
     ]
    }
   ],
   "source": [
    "plt.figure(figsize=(8,8))\n",
    "sns.countplot(insurance_df['sex'])\n",
    "plt.title(\"Gender Distribution\")\n",
    "plt.show()\n",
    "print(insurance_df[\"sex\"].value_counts())"
   ]
  },
  {
   "cell_type": "code",
   "execution_count": 38,
   "metadata": {},
   "outputs": [
    {
     "data": {
      "text/plain": [
       "<Figure size 800x800 with 0 Axes>"
      ]
     },
     "metadata": {},
     "output_type": "display_data"
    },
    {
     "data": {
      "image/png": "[encoded data removed]",
      "text/plain": [
       "<Figure size 500x500 with 1 Axes>"
      ]
     },
     "metadata": {},
     "output_type": "display_data"
    }
   ],
   "source": [
    "plt.figure(figsize=(8,8));\n",
    "sns.displot(access_df['yes']);\n",
    "plt.title(\"Yes for insurance Count\");\n",
    "plt.show();"
   ]
  },
  {
   "cell_type": "code",
   "execution_count": 39,
   "metadata": {},
   "outputs": [
    {
     "data": {
      "text/plain": [
       "<Figure size 800x800 with 0 Axes>"
      ]
     },
     "metadata": {},
     "output_type": "display_data"
    },
    {
     "data": {
      "image/png": "[encoded data removed]",
      "text/plain": [
       "<Figure size 500x500 with 1 Axes>"
      ]
     },
     "metadata": {},
     "output_type": "display_data"
    }
   ],
   "source": [
    "plt.figure(figsize=(8,8));\n",
    "sns.displot(access_df['no']);\n",
    "plt.title(\"No for insurance Count\");\n",
    "plt.show();"
   ]
  },
  {
   "cell_type": "code",
   "execution_count": 40,
   "metadata": {},
   "outputs": [
    {
     "data": {
      "text/plain": [
       "<Figure size 800x800 with 0 Axes>"
      ]
     },
     "metadata": {},
     "output_type": "display_data"
    },
    {
     "data": {
      "image/png": "[encoded data removed]",
      "text/plain": [
       "<Figure size 500x500 with 1 Axes>"
      ]
     },
     "metadata": {},
     "output_type": "display_data"
    }
   ],
   "source": [
    "plt.figure(figsize=(8,8));\n",
    "sns.displot(access_df['state']);\n",
    "plt.title(\"State Distribution\");\n",
    "plt.show();"
   ]
  },
  {
   "cell_type": "code",
   "execution_count": 41,
   "metadata": {},
   "outputs": [
    {
     "data": {
      "text/html": [
       "<div>\n",
       "<style scoped>\n",
       "    .dataframe tbody tr th:only-of-type {\n",
       "        vertical-align: middle;\n",
       "    }\n",
       "\n",
       "    .dataframe tbody tr th {\n",
       "        vertical-align: top;\n",
       "    }\n",
       "\n",
       "    .dataframe thead th {\n",
       "        text-align: right;\n",
       "    }\n",
       "</style>\n",
       "<table border=\"1\" class=\"dataframe\">\n",
       "  <thead>\n",
       "    <tr style=\"text-align: right;\">\n",
       "      <th></th>\n",
       "      <th>year</th>\n",
       "      <th>state</th>\n",
       "      <th>yes</th>\n",
       "      <th>no</th>\n",
       "      <th>category</th>\n",
       "    </tr>\n",
       "  </thead>\n",
       "  <tbody>\n",
       "    <tr>\n",
       "      <th>0</th>\n",
       "      <td>2010</td>\n",
       "      <td>Nationwide (States, DC, and Territories)</td>\n",
       "      <td>85%</td>\n",
       "      <td>15%</td>\n",
       "      <td>Health Care Access/Coverage</td>\n",
       "    </tr>\n",
       "    <tr>\n",
       "      <th>1</th>\n",
       "      <td>2010</td>\n",
       "      <td>Nationwide (States and DC)</td>\n",
       "      <td>85%</td>\n",
       "      <td>15%</td>\n",
       "      <td>Health Care Access/Coverage</td>\n",
       "    </tr>\n",
       "    <tr>\n",
       "      <th>2</th>\n",
       "      <td>2010</td>\n",
       "      <td>Guam</td>\n",
       "      <td>77.80%</td>\n",
       "      <td>22.20%</td>\n",
       "      <td>Health Care Access/Coverage</td>\n",
       "    </tr>\n",
       "    <tr>\n",
       "      <th>3</th>\n",
       "      <td>2010</td>\n",
       "      <td>Puerto Rico</td>\n",
       "      <td>92.10%</td>\n",
       "      <td>7.90%</td>\n",
       "      <td>Health Care Access/Coverage</td>\n",
       "    </tr>\n",
       "    <tr>\n",
       "      <th>4</th>\n",
       "      <td>2010</td>\n",
       "      <td>Virgin Islands</td>\n",
       "      <td>69.40%</td>\n",
       "      <td>30.60%</td>\n",
       "      <td>Health Care Access/Coverage</td>\n",
       "    </tr>\n",
       "  </tbody>\n",
       "</table>\n",
       "</div>"
      ],
      "text/plain": [
       "   year                                     state     yes      no  \\\n",
       "0  2010  Nationwide (States, DC, and Territories)     85%     15%   \n",
       "1  2010                Nationwide (States and DC)     85%     15%   \n",
       "2  2010                                      Guam  77.80%  22.20%   \n",
       "3  2010                               Puerto Rico  92.10%   7.90%   \n",
       "4  2010                            Virgin Islands  69.40%  30.60%   \n",
       "\n",
       "                      category  \n",
       "0  Health Care Access/Coverage  \n",
       "1  Health Care Access/Coverage  \n",
       "2  Health Care Access/Coverage  \n",
       "3  Health Care Access/Coverage  \n",
       "4  Health Care Access/Coverage  "
      ]
     },
     "execution_count": 41,
     "metadata": {},
     "output_type": "execute_result"
    }
   ],
   "source": [
    "access_df.head()"
   ]
  },
  {
   "cell_type": "code",
   "execution_count": 57,
   "metadata": {},
   "outputs": [
    {
     "data": {
      "text/html": [
       "<div>\n",
       "<style scoped>\n",
       "    .dataframe tbody tr th:only-of-type {\n",
       "        vertical-align: middle;\n",
       "    }\n",
       "\n",
       "    .dataframe tbody tr th {\n",
       "        vertical-align: top;\n",
       "    }\n",
       "\n",
       "    .dataframe thead th {\n",
       "        text-align: right;\n",
       "    }\n",
       "</style>\n",
       "<table border=\"1\" class=\"dataframe\">\n",
       "  <thead>\n",
       "    <tr style=\"text-align: right;\">\n",
       "      <th></th>\n",
       "      <th>age</th>\n",
       "      <th>sex</th>\n",
       "      <th>weight</th>\n",
       "      <th>bmi</th>\n",
       "      <th>hereditary_diseases</th>\n",
       "      <th>no_of_dependents</th>\n",
       "      <th>smoker</th>\n",
       "      <th>city</th>\n",
       "      <th>diabetes</th>\n",
       "      <th>regular_ex</th>\n",
       "      <th>job_title</th>\n",
       "      <th>claim</th>\n",
       "    </tr>\n",
       "  </thead>\n",
       "  <tbody>\n",
       "    <tr>\n",
       "      <th>0</th>\n",
       "      <td>60.0</td>\n",
       "      <td>0</td>\n",
       "      <td>64</td>\n",
       "      <td>24.3</td>\n",
       "      <td>NoDisease</td>\n",
       "      <td>1</td>\n",
       "      <td>0</td>\n",
       "      <td>NewYork</td>\n",
       "      <td>0</td>\n",
       "      <td>0</td>\n",
       "      <td>Actor</td>\n",
       "      <td>13112.6</td>\n",
       "    </tr>\n",
       "    <tr>\n",
       "      <th>1</th>\n",
       "      <td>49.0</td>\n",
       "      <td>1</td>\n",
       "      <td>75</td>\n",
       "      <td>22.6</td>\n",
       "      <td>NoDisease</td>\n",
       "      <td>1</td>\n",
       "      <td>0</td>\n",
       "      <td>MA</td>\n",
       "      <td>1</td>\n",
       "      <td>1</td>\n",
       "      <td>Engineer</td>\n",
       "      <td>9567.0</td>\n",
       "    </tr>\n",
       "    <tr>\n",
       "      <th>2</th>\n",
       "      <td>32.0</td>\n",
       "      <td>1</td>\n",
       "      <td>64</td>\n",
       "      <td>17.8</td>\n",
       "      <td>Epilepsy</td>\n",
       "      <td>2</td>\n",
       "      <td>1</td>\n",
       "      <td>Phildelphia</td>\n",
       "      <td>1</td>\n",
       "      <td>1</td>\n",
       "      <td>Academician</td>\n",
       "      <td>32734.2</td>\n",
       "    </tr>\n",
       "    <tr>\n",
       "      <th>3</th>\n",
       "      <td>61.0</td>\n",
       "      <td>1</td>\n",
       "      <td>53</td>\n",
       "      <td>36.4</td>\n",
       "      <td>NoDisease</td>\n",
       "      <td>1</td>\n",
       "      <td>1</td>\n",
       "      <td>Pittsburg</td>\n",
       "      <td>1</td>\n",
       "      <td>0</td>\n",
       "      <td>Chef</td>\n",
       "      <td>48517.6</td>\n",
       "    </tr>\n",
       "    <tr>\n",
       "      <th>4</th>\n",
       "      <td>19.0</td>\n",
       "      <td>1</td>\n",
       "      <td>50</td>\n",
       "      <td>20.6</td>\n",
       "      <td>NoDisease</td>\n",
       "      <td>0</td>\n",
       "      <td>0</td>\n",
       "      <td>Buffalo</td>\n",
       "      <td>1</td>\n",
       "      <td>0</td>\n",
       "      <td>HomeMakers</td>\n",
       "      <td>1731.7</td>\n",
       "    </tr>\n",
       "  </tbody>\n",
       "</table>\n",
       "</div>"
      ],
      "text/plain": [
       "    age  sex  weight   bmi hereditary_diseases  no_of_dependents  smoker  \\\n",
       "0  60.0    0      64  24.3           NoDisease                 1       0   \n",
       "1  49.0    1      75  22.6           NoDisease                 1       0   \n",
       "2  32.0    1      64  17.8            Epilepsy                 2       1   \n",
       "3  61.0    1      53  36.4           NoDisease                 1       1   \n",
       "4  19.0    1      50  20.6           NoDisease                 0       0   \n",
       "\n",
       "          city  diabetes  regular_ex    job_title    claim  \n",
       "0      NewYork         0           0        Actor  13112.6  \n",
       "1           MA         1           1     Engineer   9567.0  \n",
       "2  Phildelphia         1           1  Academician  32734.2  \n",
       "3    Pittsburg         1           0         Chef  48517.6  \n",
       "4      Buffalo         1           0   HomeMakers   1731.7  "
      ]
     },
     "execution_count": 57,
     "metadata": {},
     "output_type": "execute_result"
    }
   ],
   "source": [
    "insurance_df.head()"
   ]
  },
  {
   "cell_type": "code",
   "execution_count": 43,
   "metadata": {},
   "outputs": [],
   "source": [
    "import seaborn as sns\n",
    "from scipy.stats import zscore"
   ]
  },
  {
   "cell_type": "code",
   "execution_count": 44,
   "metadata": {},
   "outputs": [
    {
     "ename": "ValueError",
     "evalue": "could not convert string to float: '85%'",
     "output_type": "error",
     "traceback": [
      "\u001b[0;31m---------------------------------------------------------------------------\u001b[0m",
      "\u001b[0;31mValueError\u001b[0m                                Traceback (most recent call last)",
      "\u001b[0;32m/var/folders/56/gsw2t46d78b6_2tql5y__cch0000gn/T/ipykernel_14325/304563105.py\u001b[0m in \u001b[0;36m<module>\u001b[0;34m\u001b[0m\n\u001b[0;32m----> 1\u001b[0;31m \u001b[0msns\u001b[0m\u001b[0;34m.\u001b[0m\u001b[0mboxplot\u001b[0m\u001b[0;34m(\u001b[0m\u001b[0mdata\u001b[0m\u001b[0;34m=\u001b[0m\u001b[0maccess_df\u001b[0m\u001b[0;34m[\u001b[0m\u001b[0;34m'yes'\u001b[0m\u001b[0;34m]\u001b[0m\u001b[0;34m)\u001b[0m\u001b[0;34m\u001b[0m\u001b[0;34m\u001b[0m\u001b[0m\n\u001b[0m",
      "\u001b[0;32m/Users/cuddoongaraado/opt/anaconda3/envs/data_capstone_venv/lib/python3.7/site-packages/seaborn/_decorators.py\u001b[0m in \u001b[0;36minner_f\u001b[0;34m(*args, **kwargs)\u001b[0m\n\u001b[1;32m     44\u001b[0m             )\n\u001b[1;32m     45\u001b[0m         \u001b[0mkwargs\u001b[0m\u001b[0;34m.\u001b[0m\u001b[0mupdate\u001b[0m\u001b[0;34m(\u001b[0m\u001b[0;34m{\u001b[0m\u001b[0mk\u001b[0m\u001b[0;34m:\u001b[0m \u001b[0marg\u001b[0m \u001b[0;32mfor\u001b[0m \u001b[0mk\u001b[0m\u001b[0;34m,\u001b[0m \u001b[0marg\u001b[0m \u001b[0;32min\u001b[0m \u001b[0mzip\u001b[0m\u001b[0;34m(\u001b[0m\u001b[0msig\u001b[0m\u001b[0;34m.\u001b[0m\u001b[0mparameters\u001b[0m\u001b[0;34m,\u001b[0m \u001b[0margs\u001b[0m\u001b[0;34m)\u001b[0m\u001b[0;34m}\u001b[0m\u001b[0;34m)\u001b[0m\u001b[0;34m\u001b[0m\u001b[0;34m\u001b[0m\u001b[0m\n\u001b[0;32m---> 46\u001b[0;31m         \u001b[0;32mreturn\u001b[0m \u001b[0mf\u001b[0m\u001b[0;34m(\u001b[0m\u001b[0;34m**\u001b[0m\u001b[0mkwargs\u001b[0m\u001b[0;34m)\u001b[0m\u001b[0;34m\u001b[0m\u001b[0;34m\u001b[0m\u001b[0m\n\u001b[0m\u001b[1;32m     47\u001b[0m     \u001b[0;32mreturn\u001b[0m \u001b[0minner_f\u001b[0m\u001b[0;34m\u001b[0m\u001b[0;34m\u001b[0m\u001b[0m\n\u001b[1;32m     48\u001b[0m \u001b[0;34m\u001b[0m\u001b[0m\n",
      "\u001b[0;32m/Users/cuddoongaraado/opt/anaconda3/envs/data_capstone_venv/lib/python3.7/site-packages/seaborn/categorical.py\u001b[0m in \u001b[0;36mboxplot\u001b[0;34m(x, y, hue, data, order, hue_order, orient, color, palette, saturation, width, dodge, fliersize, linewidth, whis, ax, **kwargs)\u001b[0m\n\u001b[1;32m   2243\u001b[0m     plotter = _BoxPlotter(x, y, hue, data, order, hue_order,\n\u001b[1;32m   2244\u001b[0m                           \u001b[0morient\u001b[0m\u001b[0;34m,\u001b[0m \u001b[0mcolor\u001b[0m\u001b[0;34m,\u001b[0m \u001b[0mpalette\u001b[0m\u001b[0;34m,\u001b[0m \u001b[0msaturation\u001b[0m\u001b[0;34m,\u001b[0m\u001b[0;34m\u001b[0m\u001b[0;34m\u001b[0m\u001b[0m\n\u001b[0;32m-> 2245\u001b[0;31m                           width, dodge, fliersize, linewidth)\n\u001b[0m\u001b[1;32m   2246\u001b[0m \u001b[0;34m\u001b[0m\u001b[0m\n\u001b[1;32m   2247\u001b[0m     \u001b[0;32mif\u001b[0m \u001b[0max\u001b[0m \u001b[0;32mis\u001b[0m \u001b[0;32mNone\u001b[0m\u001b[0;34m:\u001b[0m\u001b[0;34m\u001b[0m\u001b[0;34m\u001b[0m\u001b[0m\n",
      "\u001b[0;32m/Users/cuddoongaraado/opt/anaconda3/envs/data_capstone_venv/lib/python3.7/site-packages/seaborn/categorical.py\u001b[0m in \u001b[0;36m__init__\u001b[0;34m(self, x, y, hue, data, order, hue_order, orient, color, palette, saturation, width, dodge, fliersize, linewidth)\u001b[0m\n\u001b[1;32m    404\u001b[0m                  width, dodge, fliersize, linewidth):\n\u001b[1;32m    405\u001b[0m \u001b[0;34m\u001b[0m\u001b[0m\n\u001b[0;32m--> 406\u001b[0;31m         \u001b[0mself\u001b[0m\u001b[0;34m.\u001b[0m\u001b[0mestablish_variables\u001b[0m\u001b[0;34m(\u001b[0m\u001b[0mx\u001b[0m\u001b[0;34m,\u001b[0m \u001b[0my\u001b[0m\u001b[0;34m,\u001b[0m \u001b[0mhue\u001b[0m\u001b[0;34m,\u001b[0m \u001b[0mdata\u001b[0m\u001b[0;34m,\u001b[0m \u001b[0morient\u001b[0m\u001b[0;34m,\u001b[0m \u001b[0morder\u001b[0m\u001b[0;34m,\u001b[0m \u001b[0mhue_order\u001b[0m\u001b[0;34m)\u001b[0m\u001b[0;34m\u001b[0m\u001b[0;34m\u001b[0m\u001b[0m\n\u001b[0m\u001b[1;32m    407\u001b[0m         \u001b[0mself\u001b[0m\u001b[0;34m.\u001b[0m\u001b[0mestablish_colors\u001b[0m\u001b[0;34m(\u001b[0m\u001b[0mcolor\u001b[0m\u001b[0;34m,\u001b[0m \u001b[0mpalette\u001b[0m\u001b[0;34m,\u001b[0m \u001b[0msaturation\u001b[0m\u001b[0;34m)\u001b[0m\u001b[0;34m\u001b[0m\u001b[0;34m\u001b[0m\u001b[0m\n\u001b[1;32m    408\u001b[0m \u001b[0;34m\u001b[0m\u001b[0m\n",
      "\u001b[0;32m/Users/cuddoongaraado/opt/anaconda3/envs/data_capstone_venv/lib/python3.7/site-packages/seaborn/categorical.py\u001b[0m in \u001b[0;36mestablish_variables\u001b[0;34m(self, x, y, hue, data, orient, order, hue_order, units)\u001b[0m\n\u001b[1;32m    126\u001b[0m \u001b[0;34m\u001b[0m\u001b[0m\n\u001b[1;32m    127\u001b[0m                 \u001b[0;31m# Convert to a list of arrays, the common representation\u001b[0m\u001b[0;34m\u001b[0m\u001b[0;34m\u001b[0m\u001b[0;34m\u001b[0m\u001b[0m\n\u001b[0;32m--> 128\u001b[0;31m                 \u001b[0mplot_data\u001b[0m \u001b[0;34m=\u001b[0m \u001b[0;34m[\u001b[0m\u001b[0mnp\u001b[0m\u001b[0;34m.\u001b[0m\u001b[0masarray\u001b[0m\u001b[0;34m(\u001b[0m\u001b[0md\u001b[0m\u001b[0;34m,\u001b[0m \u001b[0mfloat\u001b[0m\u001b[0;34m)\u001b[0m \u001b[0;32mfor\u001b[0m \u001b[0md\u001b[0m \u001b[0;32min\u001b[0m \u001b[0mplot_data\u001b[0m\u001b[0;34m]\u001b[0m\u001b[0;34m\u001b[0m\u001b[0;34m\u001b[0m\u001b[0m\n\u001b[0m\u001b[1;32m    129\u001b[0m \u001b[0;34m\u001b[0m\u001b[0m\n\u001b[1;32m    130\u001b[0m                 \u001b[0;31m# The group names will just be numeric indices\u001b[0m\u001b[0;34m\u001b[0m\u001b[0;34m\u001b[0m\u001b[0;34m\u001b[0m\u001b[0m\n",
      "\u001b[0;32m/Users/cuddoongaraado/opt/anaconda3/envs/data_capstone_venv/lib/python3.7/site-packages/seaborn/categorical.py\u001b[0m in \u001b[0;36m<listcomp>\u001b[0;34m(.0)\u001b[0m\n\u001b[1;32m    126\u001b[0m \u001b[0;34m\u001b[0m\u001b[0m\n\u001b[1;32m    127\u001b[0m                 \u001b[0;31m# Convert to a list of arrays, the common representation\u001b[0m\u001b[0;34m\u001b[0m\u001b[0;34m\u001b[0m\u001b[0;34m\u001b[0m\u001b[0m\n\u001b[0;32m--> 128\u001b[0;31m                 \u001b[0mplot_data\u001b[0m \u001b[0;34m=\u001b[0m \u001b[0;34m[\u001b[0m\u001b[0mnp\u001b[0m\u001b[0;34m.\u001b[0m\u001b[0masarray\u001b[0m\u001b[0;34m(\u001b[0m\u001b[0md\u001b[0m\u001b[0;34m,\u001b[0m \u001b[0mfloat\u001b[0m\u001b[0;34m)\u001b[0m \u001b[0;32mfor\u001b[0m \u001b[0md\u001b[0m \u001b[0;32min\u001b[0m \u001b[0mplot_data\u001b[0m\u001b[0;34m]\u001b[0m\u001b[0;34m\u001b[0m\u001b[0;34m\u001b[0m\u001b[0m\n\u001b[0m\u001b[1;32m    129\u001b[0m \u001b[0;34m\u001b[0m\u001b[0m\n\u001b[1;32m    130\u001b[0m                 \u001b[0;31m# The group names will just be numeric indices\u001b[0m\u001b[0;34m\u001b[0m\u001b[0;34m\u001b[0m\u001b[0;34m\u001b[0m\u001b[0m\n",
      "\u001b[0;32m/Users/cuddoongaraado/opt/anaconda3/envs/data_capstone_venv/lib/python3.7/site-packages/pandas/core/series.py\u001b[0m in \u001b[0;36m__array__\u001b[0;34m(self, dtype)\u001b[0m\n\u001b[1;32m    855\u001b[0m               dtype='datetime64[ns]')\n\u001b[1;32m    856\u001b[0m         \"\"\"\n\u001b[0;32m--> 857\u001b[0;31m         \u001b[0;32mreturn\u001b[0m \u001b[0mnp\u001b[0m\u001b[0;34m.\u001b[0m\u001b[0masarray\u001b[0m\u001b[0;34m(\u001b[0m\u001b[0mself\u001b[0m\u001b[0;34m.\u001b[0m\u001b[0m_values\u001b[0m\u001b[0;34m,\u001b[0m \u001b[0mdtype\u001b[0m\u001b[0;34m)\u001b[0m\u001b[0;34m\u001b[0m\u001b[0;34m\u001b[0m\u001b[0m\n\u001b[0m\u001b[1;32m    858\u001b[0m \u001b[0;34m\u001b[0m\u001b[0m\n\u001b[1;32m    859\u001b[0m     \u001b[0;31m# ----------------------------------------------------------------------\u001b[0m\u001b[0;34m\u001b[0m\u001b[0;34m\u001b[0m\u001b[0;34m\u001b[0m\u001b[0m\n",
      "\u001b[0;31mValueError\u001b[0m: could not convert string to float: '85%'"
     ]
    }
   ],
   "source": [
    "sns.boxplot(data=access_df['yes'])"
   ]
  },
  {
   "cell_type": "code",
   "execution_count": null,
   "metadata": {},
   "outputs": [],
   "source": [
    "access_df['yes'].describe()"
   ]
  },
  {
   "cell_type": "code",
   "execution_count": null,
   "metadata": {},
   "outputs": [],
   "source": []
  },
  {
   "cell_type": "code",
   "execution_count": null,
   "metadata": {},
   "outputs": [],
   "source": []
  },
  {
   "cell_type": "code",
   "execution_count": null,
   "metadata": {},
   "outputs": [],
   "source": []
  },
  {
   "cell_type": "code",
   "execution_count": null,
   "metadata": {},
   "outputs": [],
   "source": []
  },
  {
   "cell_type": "code",
   "execution_count": null,
   "metadata": {},
   "outputs": [],
   "source": []
  },
  {
   "cell_type": "code",
   "execution_count": null,
   "metadata": {},
   "outputs": [],
   "source": []
  },
  {
   "cell_type": "code",
   "execution_count": null,
   "metadata": {},
   "outputs": [],
   "source": []
  },
  {
   "cell_type": "code",
   "execution_count": null,
   "metadata": {},
   "outputs": [],
   "source": []
  },
  {
   "cell_type": "code",
   "execution_count": null,
   "metadata": {},
   "outputs": [],
   "source": []
  },
  {
   "cell_type": "code",
   "execution_count": null,
   "metadata": {},
   "outputs": [],
   "source": []
  },
  {
   "cell_type": "code",
   "execution_count": null,
   "metadata": {},
   "outputs": [],
   "source": []
  },
  {
   "cell_type": "code",
   "execution_count": null,
   "metadata": {},
   "outputs": [],
   "source": []
  },
  {
   "cell_type": "code",
   "execution_count": null,
   "metadata": {},
   "outputs": [],
   "source": []
  },
  {
   "cell_type": "code",
   "execution_count": null,
   "metadata": {},
   "outputs": [],
   "source": []
  },
  {
   "cell_type": "code",
   "execution_count": null,
   "metadata": {},
   "outputs": [],
   "source": []
  },
  {
   "cell_type": "code",
   "execution_count": null,
   "metadata": {},
   "outputs": [],
   "source": []
  },
  {
   "cell_type": "code",
   "execution_count": null,
   "metadata": {},
   "outputs": [],
   "source": []
  },
  {
   "cell_type": "code",
   "execution_count": null,
   "metadata": {},
   "outputs": [],
   "source": []
  },
  {
   "cell_type": "code",
   "execution_count": null,
   "metadata": {},
   "outputs": [],
   "source": []
  },
  {
   "cell_type": "code",
   "execution_count": null,
   "metadata": {},
   "outputs": [],
   "source": []
  },
  {
   "cell_type": "code",
   "execution_count": null,
   "metadata": {},
   "outputs": [],
   "source": []
  },
  {
   "cell_type": "code",
   "execution_count": null,
   "metadata": {},
   "outputs": [],
   "source": []
  },
  {
   "cell_type": "code",
   "execution_count": null,
   "metadata": {},
   "outputs": [],
   "source": []
  },
  {
   "cell_type": "code",
   "execution_count": null,
   "metadata": {},
   "outputs": [],
   "source": []
  },
  {
   "cell_type": "code",
   "execution_count": null,
   "metadata": {},
   "outputs": [],
   "source": []
  }
 ],
 "metadata": {
  "kernelspec": {
   "display_name": "Python 3 (ipykernel)",
   "language": "python",
   "name": "python3"
  },
  "language_info": {
   "codemirror_mode": {
    "name": "ipython",
    "version": 3
   },
   "file_extension": ".py",
   "mimetype": "text/x-python",
   "name": "python",
   "nbconvert_exporter": "python",
   "pygments_lexer": "ipython3",
   "version": "3.7.13"
  },
  "vscode": {
   "interpreter": {
    "hash": "aee8b7b246df8f9039afb4144a1f6fd8d2ca17a180786b69acc140d282b71a49"
   }
  }
 },
 "nbformat": 4,
 "nbformat_minor": 2
}
